{
 "cells": [
  {
   "cell_type": "markdown",
   "id": "64d61fe7",
   "metadata": {},
   "source": [
    "# LLMS-Generator Experiments\n",
    "\n",
    "For experimentation with the LLMS-Generator Agent.\n",
    "\n",
    "## Setup\n",
    "\n",
    "To run this notebook, ensure you've authenticated to Google Cloud and installed the project's dependencies.\n",
    "\n",
    "To setup the Google Cloud environment:\n",
    "\n",
    "```bash\n",
    "source scripts/setup-env.sh\n",
    "```\n",
    "\n",
    "Then to install the package dependencies into the virtual environment, use the `uv` tool:\n",
    "\n",
    "1. From your agent's root directory, run `make install` to set up the virtual environment (`.venv`).\n",
    "2. In this Jupyter notebook, select the kernel from the `.venv` folder to ensure all dependencies are available."
   ]
  },
  {
   "cell_type": "markdown",
   "id": "a069eef7",
   "metadata": {},
   "source": [
    "### Import Libraries"
   ]
  },
  {
   "cell_type": "code",
   "execution_count": 1,
   "id": "bc7e2edf",
   "metadata": {},
   "outputs": [],
   "source": [
    "import os\n",
    "\n",
    "import vertexai\n",
    "from dotenv import load_dotenv\n",
    "from google.adk.runners import Runner\n",
    "from google.adk.sessions import InMemorySessionService\n",
    "from google.auth import default\n",
    "from google.genai.types import Content, Part\n",
    "from IPython.display import Markdown, display"
   ]
  },
  {
   "cell_type": "markdown",
   "id": "ba7e44ae",
   "metadata": {},
   "source": [
    "### Load Environment Variables"
   ]
  },
  {
   "cell_type": "code",
   "execution_count": 2,
   "id": "d20b391a",
   "metadata": {},
   "outputs": [
    {
     "name": "stdout",
     "output_type": "stream",
     "text": [
      "Loading environment variables from: /home/darren/localdev/Python/llms-gen/.env\n",
      "Set GOOGLE_CLOUD_PROJECT environment variable to: scratch-dev-428715\n"
     ]
    }
   ],
   "source": [
    "dotenv_path = os.path.abspath('../.env')\n",
    "\n",
    "if os.path.exists(dotenv_path):\n",
    "    print(f\"Loading environment variables from: {dotenv_path}\")\n",
    "    load_dotenv(dotenv_path=dotenv_path)\n",
    "else:\n",
    "    print(f\"Warning: .env file not found at {dotenv_path}\")\n",
    "\n",
    "staging_project_id = os.getenv(\"GOOGLE_CLOUD_STAGING_PROJECT\")\n",
    "if staging_project_id:\n",
    "    os.environ[\"GOOGLE_CLOUD_PROJECT\"] = staging_project_id\n",
    "    print(f\"Set GOOGLE_CLOUD_PROJECT environment variable to: {staging_project_id}\")\n"
   ]
  },
  {
   "cell_type": "markdown",
   "id": "9ffaf0f7",
   "metadata": {},
   "source": [
    "### Ensure We're Authenticating to the Right Project"
   ]
  },
  {
   "cell_type": "code",
   "execution_count": 3,
   "id": "9b42809e",
   "metadata": {},
   "outputs": [],
   "source": [
    "credentials, project_id = default()  # To use ADC\n",
    "vertexai.init(project=staging_project_id, location=\"europe-west4\", credentials=credentials) # type: ignore"
   ]
  },
  {
   "cell_type": "markdown",
   "id": "1401a474",
   "metadata": {},
   "source": [
    "## Running the Agent"
   ]
  },
  {
   "cell_type": "code",
   "execution_count": 4,
   "id": "f56af454",
   "metadata": {},
   "outputs": [
    {
     "name": "stderr",
     "output_type": "stream",
     "text": [
      "16:31:34.873:llms_gen_agent - INFO: Logger initialised for llms_gen_agent.\n",
      "16:31:34.873:llms_gen_agent - DEBUG: DEBUG level logging enabled.\n",
      "16:31:35.451:llms_gen_agent - DEBUG: agent_name set to llms_gen_agent\n",
      "16:31:35.452:llms_gen_agent - DEBUG: project_id set to scratch-dev-428715\n",
      "16:31:35.452:llms_gen_agent - DEBUG: location set to global\n",
      "16:31:35.452:llms_gen_agent - DEBUG: model set to gemini-2.5-flash\n",
      "16:31:35.453:llms_gen_agent - DEBUG: genai_use_vertexai set to True\n"
     ]
    }
   ],
   "source": [
    "from llms_gen_agent.agent import root_agent"
   ]
  },
  {
   "cell_type": "code",
   "execution_count": 5,
   "id": "de7bc478",
   "metadata": {},
   "outputs": [],
   "source": [
    "# Session and Runner\n",
    "APP_NAME = \"generate_llms_client\"\n",
    "USER_ID=\"test_user\"\n",
    "SESSION_ID=\"test_session\"\n",
    "TEST_REPO_PATH = \"/home/darren/localdev/gcp/adk-docs\" # You can change this to any repository you want to test\n",
    "\n",
    "async def setup_session_and_runner():\n",
    "    session_service = InMemorySessionService()\n",
    "    session = await session_service.create_session(app_name=APP_NAME, user_id=USER_ID, session_id=SESSION_ID)\n",
    "    runner = Runner(agent=root_agent, app_name=APP_NAME, session_service=session_service)\n",
    "    return session, runner"
   ]
  },
  {
   "cell_type": "code",
   "execution_count": 6,
   "id": "14bc181a",
   "metadata": {},
   "outputs": [],
   "source": [
    "# Agent Interaction\n",
    "async def call_agent_async(query):\n",
    "    content = Content(role='user', parts=[Part(text=query)])\n",
    "    _, runner = await setup_session_and_runner()\n",
    "    events = runner.run_async(user_id=USER_ID, session_id=SESSION_ID, new_message=content)\n",
    "\n",
    "    async for event in events:\n",
    "        if function_calls := event.get_function_calls():\n",
    "            tool_name = function_calls[0].name\n",
    "            display(Markdown(f\"_Using tool {tool_name}..._\"))\n",
    "        elif event.actions and event.actions.transfer_to_agent:\n",
    "            personality_name = event.actions.transfer_to_agent\n",
    "            display(Markdown(f\"_Delegating to agent: {personality_name}..._\"))\n",
    "        elif event.is_final_response() and event.content and event.content.parts:\n",
    "            final_message = event.content.parts[0].text\n",
    "            display(Markdown(\"### Final Message\"))\n",
    "            display(Markdown(final_message))\n",
    "        else:\n",
    "            print(f\"event: {event}\")\n"
   ]
  },
  {
   "cell_type": "code",
   "execution_count": 7,
   "id": "c09069fa",
   "metadata": {},
   "outputs": [
    {
     "data": {
      "text/markdown": [
       "_Using tool discover_files..._"
      ],
      "text/plain": [
       "<IPython.core.display.Markdown object>"
      ]
     },
     "metadata": {},
     "output_type": "display_data"
    },
    {
     "name": "stderr",
     "output_type": "stream",
     "text": [
      "16:31:36.716:llms_gen_agent - DEBUG: Entering discover_files with repo_path: /home/darren/localdev/gcp/adk-docs\n",
      "16:31:36.718:llms_gen_agent - DEBUG: /home/darren/localdev/gcp/adk-docs/CONTRIBUTING.md\n",
      "/home/darren/localdev/gcp/adk-docs/README.md\n",
      "/home/darren/localdev/gcp/adk-docs/docs/contributing-guide.md\n",
      "/home/darren/localdev/gcp/adk-docs/docs/community.md\n",
      "/home/darren/localdev/gcp/adk-docs/docs/index.md\n",
      "/home/darren/localdev/gcp/adk-docs/docs/deploy/gke.md\n",
      "/home/darren/localdev/gcp/adk-docs/docs/deploy/cloud-run.md\n",
      "/home/darren/localdev/gcp/adk-docs/docs/deploy/agent-engine.md\n",
      "/home/darren/localdev/gcp/adk-docs/docs/deploy/index.md\n",
      "/home/darren/localdev/gcp/adk-docs/docs/sessions/state.md\n",
      "/home/darren/localdev/gcp/adk-docs/docs/sessions/session.md\n",
      "/home/darren/localdev/gcp/adk-docs/docs/sessions/memory.md\n",
      "/home/darren/localdev/gcp/adk-docs/docs/sessions/index.md\n",
      "/home/darren/localdev/gcp/adk-docs/docs/sessions/express-mode.md\n",
      "/home/darren/localdev/gcp/adk-docs/docs/tutorials/agent-team.md\n",
      "/home/darren/localdev/gcp/adk-docs/docs/tutorials/index.md\n",
      "/home/darren/localdev/gcp/adk-docs/docs/streaming/custom-streaming-ws.md\n",
      "/home/darren/localdev/gcp/adk-docs/docs/streaming/custom-streaming.md\n",
      "/home/darren/localdev/gcp/adk-docs/docs/streaming/streaming-tools.md\n",
      "/home/darren/localdev/gcp/adk-docs/docs/streaming/configuration.md\n",
      "/home/darren/localdev/gcp/adk-docs/docs/streaming/index.md\n",
      "/home/darren/localdev/gcp/adk-docs/docs/streaming/dev-guide/part1.md\n",
      "/home/darren/localdev/gcp/adk-docs/docs/callbacks/types-of-callbacks.md\n",
      "/home/darren/localdev/gcp/adk-docs/docs/callbacks/design-patterns-and-best-practices.md\n",
      "/home/darren/localdev/gcp/adk-docs/docs/callbacks/index.md\n",
      "/home/darren/localdev/gcp/adk-docs/docs/context/index.md\n",
      "/home/darren/localdev/gcp/adk-docs/docs/a2a/quickstart-exposing.md\n",
      "/home/darren/localdev/gcp/adk-docs/docs/a2a/intro.md\n",
      "/home/darren/localdev/gcp/adk-docs/docs/a2a/index.md\n",
      "/home/darren/localdev/gcp/adk-docs/docs/a2a/quickstart-consuming.md\n",
      "/home/darren/localdev/gcp/adk-docs/docs/runtime/runconfig.md\n",
      "/home/darren/localdev/gcp/adk-docs/docs/runtime/index.md\n",
      "/home/darren/localdev/gcp/adk-docs/docs/safety/index.md\n",
      "/home/darren/localdev/gcp/adk-docs/docs/observability/agentops.md\n",
      "/home/darren/localdev/gcp/adk-docs/docs/observability/cloud-trace.md\n",
      "/home/darren/localdev/gcp/adk-docs/docs/observability/phoenix.md\n",
      "/home/darren/localdev/gcp/adk-docs/docs/observability/weave.md\n",
      "/home/darren/localdev/gcp/adk-docs/docs/observability/arize-ax.md\n",
      "/home/darren/localdev/gcp/adk-docs/docs/observability/logging.md\n",
      "/home/darren/localdev/gcp/adk-docs/docs/events/index.md\n",
      "/home/darren/localdev/gcp/adk-docs/docs/tools/confirmation.md\n",
      "/home/darren/localdev/gcp/adk-docs/docs/tools/authentication.md\n",
      "/home/darren/localdev/gcp/adk-docs/docs/tools/built-in-tools.md\n",
      "/home/darren/localdev/gcp/adk-docs/docs/tools/openapi-tools.md\n",
      "/home/darren/localdev/gcp/adk-docs/docs/tools/google-cloud-tools.md\n",
      "/home/darren/localdev/gcp/adk-docs/docs/tools/mcp-tools.md\n",
      "/home/darren/localdev/gcp/adk-docs/docs/tools/third-party-tools.md\n",
      "/home/darren/localdev/gcp/adk-docs/docs/tools/performance.md\n",
      "/home/darren/localdev/gcp/adk-docs/docs/tools/function-tools.md\n",
      "/home/darren/localdev/gcp/adk-docs/docs/tools/index.md\n",
      "/home/darren/localdev/gcp/adk-docs/docs/mcp/index.md\n",
      "/home/darren/localdev/gcp/adk-docs/docs/evaluate/index.md\n",
      "/home/darren/localdev/gcp/adk-docs/docs/api-reference/index.md\n",
      "/home/darren/localdev/gcp/adk-docs/docs/api-reference/java/legal/jqueryUI.md\n",
      "/home/darren/localdev/gcp/adk-docs/docs/api-reference/java/legal/dejavufonts.md\n",
      "/home/darren/localdev/gcp/adk-docs/docs/api-reference/java/legal/jquery.md\n",
      "/home/darren/localdev/gcp/adk-docs/docs/api-reference/rest/index.md\n",
      "/home/darren/localdev/gcp/adk-docs/docs/get-started/testing.md\n",
      "/home/darren/localdev/gcp/adk-docs/docs/get-started/about.md\n",
      "/home/darren/localdev/gcp/adk-docs/docs/get-started/installation.md\n",
      "/home/darren/localdev/gcp/adk-docs/docs/get-started/quickstart.md\n",
      "/home/darren/localdev/gcp/adk-docs/docs/get-started/index.md\n",
      "/home/darren/localdev/gcp/adk-docs/docs/get-started/streaming/quickstart-streaming.md\n",
      "/home/darren/localdev/gcp/adk-docs/docs/get-started/streaming/quickstart-streaming-java.md\n",
      "/home/darren/localdev/gcp/adk-docs/docs/get-started/streaming/index.md\n",
      "/home/darren/localdev/gcp/adk-docs/docs/agents/multi-agents.md\n",
      "/home/darren/localdev/gcp/adk-docs/docs/agents/config.md\n",
      "/home/darren/localdev/gcp/adk-docs/docs/agents/models.md\n",
      "/home/darren/localdev/gcp/adk-docs/docs/agents/llm-agents.md\n",
      "/home/darren/localdev/gcp/adk-docs/docs/agents/custom-agents.md\n",
      "/home/darren/localdev/gcp/adk-docs/docs/agents/index.md\n",
      "/home/darren/localdev/gcp/adk-docs/docs/agents/workflow-agents/parallel-agents.md\n",
      "/home/darren/localdev/gcp/adk-docs/docs/agents/workflow-agents/sequential-agents.md\n",
      "/home/darren/localdev/gcp/adk-docs/docs/agents/workflow-agents/loop-agents.md\n",
      "/home/darren/localdev/gcp/adk-docs/docs/agents/workflow-agents/index.md\n",
      "/home/darren/localdev/gcp/adk-docs/docs/artifacts/index.md\n",
      "/home/darren/localdev/gcp/adk-docs/docs/plugins/index.md\n",
      "/home/darren/localdev/gcp/adk-docs/docs/grounding/vertex_ai_search_grounding.md\n",
      "/home/darren/localdev/gcp/adk-docs/docs/grounding/google_search_grounding.md\n",
      "/home/darren/localdev/gcp/adk-docs/.github/ISSUE_TEMPLATE/feature_request.md\n",
      "/home/darren/localdev/gcp/adk-docs/.github/ISSUE_TEMPLATE/bug_report.md\n",
      "/home/darren/localdev/gcp/adk-docs/examples/java/demos/README.md\n",
      "/home/darren/localdev/gcp/adk-docs/examples/java/demos/patent-search-agent/README.md\n",
      "/home/darren/localdev/gcp/adk-docs/examples/java/demos/patent-search-agent/src/main/java/tools/CloudRunFunction/README.md\n",
      "/home/darren/localdev/gcp/adk-docs/examples/python/tutorial/agent_team/adk-tutorial/readme.md\n",
      "\n",
      "16:31:36.718:llms_gen_agent - DEBUG: Exiting discover_files.\n"
     ]
    },
    {
     "name": "stdout",
     "output_type": "stream",
     "text": [
      "event: content=Content(\n",
      "  parts=[\n",
      "    Part(\n",
      "      function_response=FunctionResponse(\n",
      "        id='adk-2a867e5a-e02b-495e-a4ef-a53037ea862a',\n",
      "        name='discover_files',\n",
      "        response={\n",
      "          'files': [\n",
      "            '/home/darren/localdev/gcp/adk-docs/CONTRIBUTING.md',\n",
      "            '/home/darren/localdev/gcp/adk-docs/README.md',\n",
      "            '/home/darren/localdev/gcp/adk-docs/docs/contributing-guide.md',\n",
      "            '/home/darren/localdev/gcp/adk-docs/docs/community.md',\n",
      "            '/home/darren/localdev/gcp/adk-docs/docs/index.md',\n",
      "            <... 80 more items ...>,\n",
      "          ],\n",
      "          'status': 'success'\n",
      "        }\n",
      "      )\n",
      "    ),\n",
      "  ],\n",
      "  role='user'\n",
      ") grounding_metadata=None partial=None turn_complete=None finish_reason=None error_code=None error_message=None interrupted=None custom_metadata=None usage_metadata=None live_session_resumption_update=None input_transcription=None output_transcription=None invocation_id='e-f5c3bb00-2a44-4052-8f5d-c1a6c06a8c43' author='generate_llms_coordinator' actions=EventActions(skip_summarization=None, state_delta={'files': ['/home/darren/localdev/gcp/adk-docs/CONTRIBUTING.md', '/home/darren/localdev/gcp/adk-docs/README.md', '/home/darren/localdev/gcp/adk-docs/docs/contributing-guide.md', '/home/darren/localdev/gcp/adk-docs/docs/community.md', '/home/darren/localdev/gcp/adk-docs/docs/index.md', '/home/darren/localdev/gcp/adk-docs/docs/deploy/gke.md', '/home/darren/localdev/gcp/adk-docs/docs/deploy/cloud-run.md', '/home/darren/localdev/gcp/adk-docs/docs/deploy/agent-engine.md', '/home/darren/localdev/gcp/adk-docs/docs/deploy/index.md', '/home/darren/localdev/gcp/adk-docs/docs/sessions/state.md', '/home/darren/localdev/gcp/adk-docs/docs/sessions/session.md', '/home/darren/localdev/gcp/adk-docs/docs/sessions/memory.md', '/home/darren/localdev/gcp/adk-docs/docs/sessions/index.md', '/home/darren/localdev/gcp/adk-docs/docs/sessions/express-mode.md', '/home/darren/localdev/gcp/adk-docs/docs/tutorials/agent-team.md', '/home/darren/localdev/gcp/adk-docs/docs/tutorials/index.md', '/home/darren/localdev/gcp/adk-docs/docs/streaming/custom-streaming-ws.md', '/home/darren/localdev/gcp/adk-docs/docs/streaming/custom-streaming.md', '/home/darren/localdev/gcp/adk-docs/docs/streaming/streaming-tools.md', '/home/darren/localdev/gcp/adk-docs/docs/streaming/configuration.md', '/home/darren/localdev/gcp/adk-docs/docs/streaming/index.md', '/home/darren/localdev/gcp/adk-docs/docs/streaming/dev-guide/part1.md', '/home/darren/localdev/gcp/adk-docs/docs/callbacks/types-of-callbacks.md', '/home/darren/localdev/gcp/adk-docs/docs/callbacks/design-patterns-and-best-practices.md', '/home/darren/localdev/gcp/adk-docs/docs/callbacks/index.md', '/home/darren/localdev/gcp/adk-docs/docs/context/index.md', '/home/darren/localdev/gcp/adk-docs/docs/a2a/quickstart-exposing.md', '/home/darren/localdev/gcp/adk-docs/docs/a2a/intro.md', '/home/darren/localdev/gcp/adk-docs/docs/a2a/index.md', '/home/darren/localdev/gcp/adk-docs/docs/a2a/quickstart-consuming.md', '/home/darren/localdev/gcp/adk-docs/docs/runtime/runconfig.md', '/home/darren/localdev/gcp/adk-docs/docs/runtime/index.md', '/home/darren/localdev/gcp/adk-docs/docs/safety/index.md', '/home/darren/localdev/gcp/adk-docs/docs/observability/agentops.md', '/home/darren/localdev/gcp/adk-docs/docs/observability/cloud-trace.md', '/home/darren/localdev/gcp/adk-docs/docs/observability/phoenix.md', '/home/darren/localdev/gcp/adk-docs/docs/observability/weave.md', '/home/darren/localdev/gcp/adk-docs/docs/observability/arize-ax.md', '/home/darren/localdev/gcp/adk-docs/docs/observability/logging.md', '/home/darren/localdev/gcp/adk-docs/docs/events/index.md', '/home/darren/localdev/gcp/adk-docs/docs/tools/confirmation.md', '/home/darren/localdev/gcp/adk-docs/docs/tools/authentication.md', '/home/darren/localdev/gcp/adk-docs/docs/tools/built-in-tools.md', '/home/darren/localdev/gcp/adk-docs/docs/tools/openapi-tools.md', '/home/darren/localdev/gcp/adk-docs/docs/tools/google-cloud-tools.md', '/home/darren/localdev/gcp/adk-docs/docs/tools/mcp-tools.md', '/home/darren/localdev/gcp/adk-docs/docs/tools/third-party-tools.md', '/home/darren/localdev/gcp/adk-docs/docs/tools/performance.md', '/home/darren/localdev/gcp/adk-docs/docs/tools/function-tools.md', '/home/darren/localdev/gcp/adk-docs/docs/tools/index.md', '/home/darren/localdev/gcp/adk-docs/docs/mcp/index.md', '/home/darren/localdev/gcp/adk-docs/docs/evaluate/index.md', '/home/darren/localdev/gcp/adk-docs/docs/api-reference/index.md', '/home/darren/localdev/gcp/adk-docs/docs/api-reference/java/legal/jqueryUI.md', '/home/darren/localdev/gcp/adk-docs/docs/api-reference/java/legal/dejavufonts.md', '/home/darren/localdev/gcp/adk-docs/docs/api-reference/java/legal/jquery.md', '/home/darren/localdev/gcp/adk-docs/docs/api-reference/rest/index.md', '/home/darren/localdev/gcp/adk-docs/docs/get-started/testing.md', '/home/darren/localdev/gcp/adk-docs/docs/get-started/about.md', '/home/darren/localdev/gcp/adk-docs/docs/get-started/installation.md', '/home/darren/localdev/gcp/adk-docs/docs/get-started/quickstart.md', '/home/darren/localdev/gcp/adk-docs/docs/get-started/index.md', '/home/darren/localdev/gcp/adk-docs/docs/get-started/streaming/quickstart-streaming.md', '/home/darren/localdev/gcp/adk-docs/docs/get-started/streaming/quickstart-streaming-java.md', '/home/darren/localdev/gcp/adk-docs/docs/get-started/streaming/index.md', '/home/darren/localdev/gcp/adk-docs/docs/agents/multi-agents.md', '/home/darren/localdev/gcp/adk-docs/docs/agents/config.md', '/home/darren/localdev/gcp/adk-docs/docs/agents/models.md', '/home/darren/localdev/gcp/adk-docs/docs/agents/llm-agents.md', '/home/darren/localdev/gcp/adk-docs/docs/agents/custom-agents.md', '/home/darren/localdev/gcp/adk-docs/docs/agents/index.md', '/home/darren/localdev/gcp/adk-docs/docs/agents/workflow-agents/parallel-agents.md', '/home/darren/localdev/gcp/adk-docs/docs/agents/workflow-agents/sequential-agents.md', '/home/darren/localdev/gcp/adk-docs/docs/agents/workflow-agents/loop-agents.md', '/home/darren/localdev/gcp/adk-docs/docs/agents/workflow-agents/index.md', '/home/darren/localdev/gcp/adk-docs/docs/artifacts/index.md', '/home/darren/localdev/gcp/adk-docs/docs/plugins/index.md', '/home/darren/localdev/gcp/adk-docs/docs/grounding/vertex_ai_search_grounding.md', '/home/darren/localdev/gcp/adk-docs/docs/grounding/google_search_grounding.md', '/home/darren/localdev/gcp/adk-docs/.github/ISSUE_TEMPLATE/feature_request.md', '/home/darren/localdev/gcp/adk-docs/.github/ISSUE_TEMPLATE/bug_report.md', '/home/darren/localdev/gcp/adk-docs/examples/java/demos/README.md', '/home/darren/localdev/gcp/adk-docs/examples/java/demos/patent-search-agent/README.md', '/home/darren/localdev/gcp/adk-docs/examples/java/demos/patent-search-agent/src/main/java/tools/CloudRunFunction/README.md', '/home/darren/localdev/gcp/adk-docs/examples/python/tutorial/agent_team/adk-tutorial/readme.md']}, artifact_delta={}, transfer_to_agent=None, escalate=None, requested_auth_configs={}) long_running_tool_ids=None branch=None id='42a297e6-c356-433e-974e-a3e9f86ecf58' timestamp=1758382296.719274\n"
     ]
    },
    {
     "data": {
      "text/markdown": [
       "_Using tool document_summariser_agent..._"
      ],
      "text/plain": [
       "<IPython.core.display.Markdown object>"
      ]
     },
     "metadata": {},
     "output_type": "display_data"
    },
    {
     "name": "stdout",
     "output_type": "stream",
     "text": [
      "event: content=Content(\n",
      "  parts=[\n",
      "    Part(\n",
      "      function_response=FunctionResponse(\n",
      "        id='adk-1a6f05ca-5e58-44b1-8fb1-09a85ce107e8',\n",
      "        name='document_summariser_agent',\n",
      "        response={\n",
      "          'summaries': [\n",
      "            {\n",
      "              <... Max depth ...>: <... Max depth ...>,\n",
      "              <... Max depth ...>: <... Max depth ...>\n",
      "            },\n",
      "            {\n",
      "              <... Max depth ...>: <... Max depth ...>,\n",
      "              <... Max depth ...>: <... Max depth ...>\n",
      "            },\n",
      "            {\n",
      "              <... Max depth ...>: <... Max depth ...>,\n",
      "              <... Max depth ...>: <... Max depth ...>\n",
      "            },\n",
      "            {\n",
      "              <... Max depth ...>: <... Max depth ...>,\n",
      "              <... Max depth ...>: <... Max depth ...>\n",
      "            },\n",
      "            {\n",
      "              <... Max depth ...>: <... Max depth ...>,\n",
      "              <... Max depth ...>: <... Max depth ...>\n",
      "            },\n",
      "            <... 5 more items ...>,\n",
      "          ]\n",
      "        }\n",
      "      )\n",
      "    ),\n",
      "  ],\n",
      "  role='user'\n",
      ") grounding_metadata=None partial=None turn_complete=None finish_reason=None error_code=None error_message=None interrupted=None custom_metadata=None usage_metadata=None live_session_resumption_update=None input_transcription=None output_transcription=None invocation_id='e-f5c3bb00-2a44-4052-8f5d-c1a6c06a8c43' author='generate_llms_coordinator' actions=EventActions(skip_summarization=None, state_delta={'doc_summaries': {'summaries': [{'file_path': '/home/darren/localdev/gcp/adk-docs/CONTRIBUTING.md', 'summary': \"This document outlines the process for contributing to the project, emphasizing the need to sign a Contributor License Agreement and adhere to Google's Open Source Community Guidelines. It details the contribution workflow, including finding tasks, setting up the development environment, and the code review process via GitHub Pull Requests. The guide ensures a structured approach for new contributors to engage with the project.\"}, {'file_path': '/home/darren/localdev/gcp/adk-docs/README.md', 'summary': 'This file introduces the Agent Development Kit (ADK), an open-source, code-first toolkit designed for building, evaluating, and deploying AI agents with flexibility and control. It highlights key features such as a rich tool ecosystem, modular multi-agent systems, built-in observability, and deployment flexibility across various platforms. The document also provides installation instructions for Python and Java, links to comprehensive documentation, and encourages community contributions.'}, {'file_path': '/home/darren/localdev/gcp/adk-docs/docs/contributing-guide.md', 'summary': 'This guide details how to contribute to the Agent Development Kit (ADK), covering both its core framework (Python and Java) and documentation. It specifies different GitHub repositories for each component and mandates signing a Contributor License Agreement and reviewing community guidelines before contributing. The document outlines various contribution methods, including reporting issues, suggesting enhancements, improving documentation, and writing code, all managed through GitHub Pull Requests and code reviews.'}, {'file_path': '/home/darren/localdev/gcp/adk-docs/docs/community.md', 'summary': 'This document provides a list of community resources for the Agent Development Kit (ADK), including community-provided translations of the documentation in Chinese, Korean, and Japanese. It also features a collection of tutorials, guides, and blog posts that cover ADK features, use cases, and integrations, alongside several videos and screencasts showcasing ADK functionalities. The page encourages community members to contribute their own resources and provides guidance on how to do so.'}, {'file_path': '/home/darren/localdev/gcp/adk-docs/docs/index.md', 'summary': \"This document serves as the main entry point for the Agent Development Kit (ADK) documentation, defining ADK as a flexible and modular framework for developing and deploying AI agents. It emphasizes ADK's model-agnostic and deployment-agnostic nature, providing quick installation instructions for Python and Java, and links to essential resources like quickstarts, tutorials, and API references. The page also highlights core features such as flexible orchestration, multi-agent architecture, a rich tool ecosystem, deployment readiness, and built-in evaluation and safety features.\"}, {'file_path': '/home/darren/localdev/gcp/adk-docs/docs/deploy/gke.md', 'summary': 'This document offers a detailed guide for deploying an Agent Development Kit (ADK) agent to Google Kubernetes Engine (GKE), covering both manual and automated deployment methods. It provides instructions for setting up environment variables, enabling necessary APIs, granting permissions, and creating agent code, Dockerfiles, and Kubernetes manifest files. The guide also explains how to build container images, configure Kubernetes service accounts for Vertex AI, verify deployments, test the agent via UI or API, and troubleshoot common issues.'}, {'file_path': '/home/darren/localdev/gcp/adk-docs/docs/deploy/cloud-run.md', 'summary': 'This document provides instructions for deploying an Agent Development Kit (ADK) agent to Google Cloud Run, offering deployment via the `adk deploy cloud_run` CLI command or the `gcloud run deploy` command. It outlines agent configurations for Python and Java, details environment variable setup, and explains the deployment payload. The guide includes comprehensive steps for project structure, code files, and deployment commands, along with methods for testing the deployed agent through UI or API, and managing authenticated access.'}, {'file_path': '/home/darren/localdev/gcp/adk-docs/docs/deploy/agent-engine.md', 'summary': 'This document outlines the process for deploying an Agent Development Kit (ADK) agent to Vertex AI Agent Engine, a fully managed Google Cloud service designed for scaling AI agents in production, specifically for Python. It details prerequisites like a Google Cloud Project with Vertex AI API enabled, authenticated `gcloud CLI`, and a GCS bucket for staging. The guide covers defining and preparing an agent for deployment using `AdkApp`, initializing the Vertex AI SDK, local testing, and deploying via ADK CLI or Python SDK, concluding with instructions for interacting with and cleaning up deployed agents.'}, {'file_path': '/home/darren/localdev/gcp/adk-docs/docs/deploy/index.md', 'summary': 'This document provides an overview of various deployment options for Agent Development Kit (ADK) agents, enabling their transition from local development to scalable production environments. It highlights three primary Google Cloud deployment platforms: Agent Engine in Vertex AI for managed auto-scaling, Cloud Run for container-based applications, and Google Kubernetes Engine (GKE) for enhanced control and open model support. Additionally, it suggests deploying agents to other container-friendly infrastructures like Docker or Podman by manually packaging them into container images.'}, {'file_path': '/home/darren/localdev/gcp/adk-docs/docs/sessions/state.md', 'summary': \"This document explains the `state` attribute within an ADK `Session`, which acts as an agent's scratchpad for dynamic information during conversations. It clarifies that `session.state` stores serializable key-value pairs to personalize interactions, track progress, and accumulate data, while detailing how prefixes (`user:`, `app:`, `temp:`) define scope and persistence. The guide emphasizes recommended methods for state updates via `output_key`, `EventActions.state_delta`, or `CallbackContext`/`ToolContext`, and strongly advises against direct modification of `session.state` outside of managed contexts to ensure data integrity and persistence.\"}]}}, artifact_delta={}, transfer_to_agent=None, escalate=None, requested_auth_configs={}) long_running_tool_ids=None branch=None id='20d4bcde-4ec4-4930-9847-2d263c3c0e55' timestamp=1758382325.980829\n"
     ]
    },
    {
     "data": {
      "text/markdown": [
       "### Final Message"
      ],
      "text/plain": [
       "<IPython.core.display.Markdown object>"
      ]
     },
     "metadata": {},
     "output_type": "display_data"
    },
    {
     "data": {
      "text/markdown": [
       "Here are the summaries of the files in the repository:\n",
       "\n",
       "| File Path | Summary |\n",
       "|---|---|\n",
       "| /home/darren/localdev/gcp/adk-docs/CONTRIBUTING.md | This document outlines the process for contributing to the project, emphasizing the need to sign a Contributor License Agreement and adhere to Google's Open Source Community Guidelines. It details the contribution workflow, including finding tasks, setting up the development environment, and the code review process via GitHub Pull Requests. The guide ensures a structured approach for new contributors to engage with the project. |\n",
       "| /home/darren/localdev/gcp/adk-docs/README.md | This file introduces the Agent Development Kit (ADK), an open-source, code-first toolkit designed for building, evaluating, and deploying AI agents with flexibility and control. It highlights key features such as a rich tool ecosystem, modular multi-agent systems, built-in observability, and deployment flexibility across various platforms. The document also provides installation instructions for Python and Java, links to comprehensive documentation, and encourages community contributions. |\n",
       "| /home/darren/localdev/gcp/adk-docs/docs/contributing-guide.md | This guide details how to contribute to the Agent Development Kit (ADK), covering both its core framework (Python and Java) and documentation. It specifies different GitHub repositories for each component and mandates signing a Contributor License Agreement and reviewing community guidelines before contributing. The document outlines various contribution methods, including reporting issues, suggesting enhancements, improving documentation, and writing code, all managed through GitHub Pull Requests and code reviews. |\n",
       "| /home/darren/localdev/gcp/adk-docs/docs/community.md | This document provides a list of community resources for the Agent Development Kit (ADK), including community-provided translations of the documentation in Chinese, Korean, and Japanese. It also features a collection of tutorials, guides, and blog posts that cover ADK features, use cases, and integrations, alongside several videos and screencasts showcasing ADK functionalities. The page encourages community members to contribute their own resources and provides guidance on how to do so. |\n",
       "| /home/darren/localdev/gcp/adk-docs/docs/index.md | This document serves as the main entry point for the Agent Development Kit (ADK) documentation, defining ADK as a flexible and modular framework for developing and deploying AI agents. It emphasizes ADK's model-agnostic and deployment-agnostic nature, providing quick installation instructions for Python and Java, and links to essential resources like quickstarts, tutorials, and API references. The page also highlights core features such as flexible orchestration, multi-agent architecture, a rich tool ecosystem, deployment readiness, and built-in evaluation and safety features. |\n",
       "| /home/darren/localdev/gcp/adk-docs/docs/deploy/gke.md | This document offers a detailed guide for deploying an Agent Development Kit (ADK) agent to Google Kubernetes Engine (GKE), covering both manual and automated deployment methods. It provides instructions for setting up environment variables, enabling necessary APIs, granting permissions, and creating agent code, Dockerfiles, and Kubernetes manifest files. The guide also explains how to build container images, configure Kubernetes service accounts for Vertex AI, verify deployments, test the agent via UI or API, and troubleshoot common issues. |\n",
       "| /home/darren/localdev/gcp/adk-docs/docs/deploy/cloud-run.md | This document provides instructions for deploying an Agent Development Kit (ADK) agent to Google Cloud Run, offering deployment via the `adk deploy cloud_run` CLI command or the `gcloud run deploy` command. It outlines agent configurations for Python and Java, details environment variable setup, and explains the deployment payload. The guide includes comprehensive steps for project structure, code files, and deployment commands, along with methods for testing the deployed agent through UI or API, and managing authenticated access. |\n",
       "| /home/darren/localdev/gcp/adk-docs/docs/deploy/agent-engine.md | This document outlines the process for deploying an Agent Development Kit (ADK) agent to Vertex AI Agent Engine, a fully managed Google Cloud service designed for scaling AI agents in production, specifically for Python. It details prerequisites like a Google Cloud Project with Vertex AI API enabled, authenticated `gcloud CLI`, and a GCS bucket for staging. The guide covers defining and preparing an agent for deployment using `AdkApp`, initializing the Vertex AI SDK, local testing, and deploying via ADK CLI or Python SDK, concluding with instructions for interacting with and cleaning up deployed agents. |\n",
       "| /home/darren/localdev/gcp/adk-docs/docs/deploy/index.md | This document provides an overview of various deployment options for Agent Development Kit (ADK) agents, enabling their transition from local development to scalable production environments. It highlights three primary Google Cloud deployment platforms: Agent Engine in Vertex AI for managed auto-scaling, Cloud Run for container-based applications, and Google Kubernetes Engine (GKE) for enhanced control and open model support. Additionally, it suggests deploying agents to other container-friendly infrastructures like Docker or Podman by manually packaging them into container images. |\n",
       "| /home/darren/localdev/gcp/adk-docs/docs/sessions/state.md | This document explains the `state` attribute within an ADK `Session`, which acts as an agent's scratchpad for dynamic information during conversations. It clarifies that `session.state` stores serializable key-value pairs to personalize interactions, track progress, and accumulate data, while detailing how prefixes (`user:`, `app:`, `temp:`) define scope and persistence. The guide emphasizes recommended methods for state updates via `output_key`, `EventActions.state_delta`, or `CallbackContext`/`ToolContext`, and strongly advises against direct modification of `session.state` outside of managed contexts to ensure data integrity and persistence. |"
      ],
      "text/plain": [
       "<IPython.core.display.Markdown object>"
      ]
     },
     "metadata": {},
     "output_type": "display_data"
    }
   ],
   "source": [
    "query = f\"Generate the llms.txt file for the repository at {TEST_REPO_PATH}\"\n",
    "await call_agent_async(query)"
   ]
  },
  {
   "cell_type": "code",
   "execution_count": null,
   "id": "8f13ff7f",
   "metadata": {},
   "outputs": [],
   "source": []
  }
 ],
 "metadata": {
  "kernelspec": {
   "display_name": "llms-generator",
   "language": "python",
   "name": "python3"
  },
  "language_info": {
   "codemirror_mode": {
    "name": "ipython",
    "version": 3
   },
   "file_extension": ".py",
   "mimetype": "text/x-python",
   "name": "python",
   "nbconvert_exporter": "python",
   "pygments_lexer": "ipython3",
   "version": "3.12.3"
  }
 },
 "nbformat": 4,
 "nbformat_minor": 5
}
