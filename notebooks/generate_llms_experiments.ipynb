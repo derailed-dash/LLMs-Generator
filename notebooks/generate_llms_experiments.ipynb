{
 "cells": [
  {
   "cell_type": "markdown",
   "id": "64d61fe7",
   "metadata": {},
   "source": [
    "# LLMS-Generator Experiments\n",
    "\n",
    "For experimentation with the LLMS-Generator Agent.\n",
    "\n",
    "## Setup\n",
    "\n",
    "To run this notebook, ensure you've authenticated to Google Cloud and installed the project's dependencies.\n",
    "\n",
    "To setup the Google Cloud environment:\n",
    "\n",
    "```bash\n",
    "source scripts/setup-env.sh\n",
    "```\n",
    "\n",
    "Then to install the package dependencies into the virtual environment, use the `uv` tool:\n",
    "\n",
    "1. From your agent's root directory, run `make install` to set up the virtual environment (`.venv`).\n",
    "2. In this Jupyter notebook, select the kernel from the `.venv` folder to ensure all dependencies are available."
   ]
  },
  {
   "cell_type": "markdown",
   "id": "a069eef7",
   "metadata": {},
   "source": [
    "### Import Libraries"
   ]
  },
  {
   "cell_type": "code",
   "execution_count": 1,
   "id": "bc7e2edf",
   "metadata": {},
   "outputs": [],
   "source": [
    "import os\n",
    "\n",
    "import vertexai\n",
    "from dotenv import load_dotenv\n",
    "from google.adk.runners import Runner\n",
    "from google.adk.sessions import InMemorySessionService\n",
    "from google.auth import default\n",
    "from google.genai.types import Content, Part\n",
    "from IPython.display import Markdown, display"
   ]
  },
  {
   "cell_type": "markdown",
   "id": "ba7e44ae",
   "metadata": {},
   "source": [
    "### Load Environment Variables"
   ]
  },
  {
   "cell_type": "code",
   "execution_count": 2,
   "id": "d20b391a",
   "metadata": {},
   "outputs": [
    {
     "name": "stdout",
     "output_type": "stream",
     "text": [
      "Loading environment variables from: /home/darren/localdev/Python/llms-gen/.env\n",
      "Set GOOGLE_CLOUD_PROJECT environment variable to: scratch-dev-428715\n"
     ]
    }
   ],
   "source": [
    "dotenv_path = os.path.abspath('../.env')\n",
    "\n",
    "if os.path.exists(dotenv_path):\n",
    "    print(f\"Loading environment variables from: {dotenv_path}\")\n",
    "    load_dotenv(dotenv_path=dotenv_path)\n",
    "else:\n",
    "    print(f\"Warning: .env file not found at {dotenv_path}\")\n",
    "\n",
    "staging_project_id = os.getenv(\"GOOGLE_CLOUD_STAGING_PROJECT\")\n",
    "if staging_project_id:\n",
    "    os.environ[\"GOOGLE_CLOUD_PROJECT\"] = staging_project_id\n",
    "    print(f\"Set GOOGLE_CLOUD_PROJECT environment variable to: {staging_project_id}\")\n"
   ]
  },
  {
   "cell_type": "markdown",
   "id": "9ffaf0f7",
   "metadata": {},
   "source": [
    "### Ensure We're Authenticating to the Right Project"
   ]
  },
  {
   "cell_type": "code",
   "execution_count": 3,
   "id": "9b42809e",
   "metadata": {},
   "outputs": [],
   "source": [
    "credentials, project_id = default()  # To use ADC\n",
    "vertexai.init(project=staging_project_id, location=\"europe-west4\", credentials=credentials) # type: ignore"
   ]
  },
  {
   "cell_type": "markdown",
   "id": "1401a474",
   "metadata": {},
   "source": [
    "## Running the Agent"
   ]
  },
  {
   "cell_type": "code",
   "execution_count": 4,
   "id": "f56af454",
   "metadata": {},
   "outputs": [
    {
     "name": "stderr",
     "output_type": "stream",
     "text": [
      "09:15:27.790:llms_gen_agent - INFO: Logger initialised for llms_gen_agent.\n",
      "09:15:27.790:llms_gen_agent - DEBUG: DEBUG level logging enabled.\n",
      "09:15:28.426:llms_gen_agent - DEBUG: agent_name set to llms_gen_agent\n",
      "09:15:28.427:llms_gen_agent - DEBUG: project_id set to scratch-dev-428715\n",
      "09:15:28.427:llms_gen_agent - DEBUG: location set to global\n",
      "09:15:28.427:llms_gen_agent - DEBUG: model set to gemini-2.5-flash\n",
      "09:15:28.428:llms_gen_agent - DEBUG: genai_use_vertexai set to True\n"
     ]
    }
   ],
   "source": [
    "from llms_gen_agent.agent import root_agent"
   ]
  },
  {
   "cell_type": "code",
   "execution_count": 5,
   "id": "de7bc478",
   "metadata": {},
   "outputs": [],
   "source": [
    "# Session and Runner\n",
    "APP_NAME = \"generate_llms_client\"\n",
    "USER_ID=\"test_user\"\n",
    "SESSION_ID=\"test_session\"\n",
    "TEST_REPO_PATH = \"/home/darren/localdev/gcp/adk-docs\" # You can change this to any repository you want to test\n",
    "\n",
    "async def setup_session_and_runner():\n",
    "    session_service = InMemorySessionService()\n",
    "    session = await session_service.create_session(app_name=APP_NAME, user_id=USER_ID, session_id=SESSION_ID)\n",
    "    runner = Runner(agent=root_agent, app_name=APP_NAME, session_service=session_service)\n",
    "    return session, runner"
   ]
  },
  {
   "cell_type": "code",
   "execution_count": null,
   "id": "14bc181a",
   "metadata": {},
   "outputs": [],
   "source": [
    "# Agent Interaction\n",
    "async def call_agent_async(query):\n",
    "    content = Content(role='user', parts=[Part(text=query)])\n",
    "    _, runner = await setup_session_and_runner()\n",
    "    events = runner.run_async(user_id=USER_ID, session_id=SESSION_ID, new_message=content)\n",
    "\n",
    "    final_response_content = \"Final response not yet received.\"\n",
    "    \n",
    "    async for event in events:\n",
    "        if function_calls := event.get_function_calls():\n",
    "            tool_name = function_calls[0].name\n",
    "            display(Markdown(f\"_Using tool {tool_name}..._\"))\n",
    "        elif event.actions and event.actions.transfer_to_agent:\n",
    "            personality_name = event.actions.transfer_to_agent\n",
    "            display(Markdown(f\"_Delegating to agent: {personality_name}..._\"))\n",
    "        elif event.is_final_response() and event.content and event.content.parts:\n",
    "            final_response_content = event.content.parts[0].text\n",
    "\n",
    "        # For debugging, print the raw type and content to the console\n",
    "        print(f\"DEBUG: Full Event: {event}\")\n",
    "    \n",
    "    display(Markdown(\"## Final Message\"))\n",
    "    display(Markdown(final_response_content))"
   ]
  },
  {
   "cell_type": "code",
   "execution_count": 7,
   "id": "c09069fa",
   "metadata": {},
   "outputs": [
    {
     "data": {
      "text/markdown": [
       "_Using tool discover_files..._"
      ],
      "text/plain": [
       "<IPython.core.display.Markdown object>"
      ]
     },
     "metadata": {},
     "output_type": "display_data"
    },
    {
     "name": "stderr",
     "output_type": "stream",
     "text": [
      "09:15:30.184:llms_gen_agent - DEBUG: Entering tool: discover_files with repo_path: /home/darren/localdev/gcp/adk-docs\n",
      "09:15:30.187:llms_gen_agent - DEBUG: Dirs\n",
      ":/home/darren/localdev/gcp/adk-docs\n",
      "/home/darren/localdev/gcp/adk-docs/docs\n",
      "/home/darren/localdev/gcp/adk-docs/docs/deploy\n",
      "/home/darren/localdev/gcp/adk-docs/docs/sessions\n",
      "/home/darren/localdev/gcp/adk-docs/docs/tutorials\n",
      "/home/darren/localdev/gcp/adk-docs/docs/streaming\n",
      "/home/darren/localdev/gcp/adk-docs/docs/streaming/dev-guide\n",
      "/home/darren/localdev/gcp/adk-docs/docs/callbacks\n",
      "/home/darren/localdev/gcp/adk-docs/docs/context\n",
      "/home/darren/localdev/gcp/adk-docs/docs/a2a\n",
      "/home/darren/localdev/gcp/adk-docs/docs/runtime\n",
      "/home/darren/localdev/gcp/adk-docs/docs/safety\n",
      "/home/darren/localdev/gcp/adk-docs/docs/observability\n",
      "/home/darren/localdev/gcp/adk-docs/docs/events\n",
      "/home/darren/localdev/gcp/adk-docs/docs/tools\n",
      "/home/darren/localdev/gcp/adk-docs/docs/mcp\n",
      "/home/darren/localdev/gcp/adk-docs/docs/evaluate\n",
      "/home/darren/localdev/gcp/adk-docs/docs/api-reference\n",
      "/home/darren/localdev/gcp/adk-docs/docs/api-reference/java/legal\n",
      "/home/darren/localdev/gcp/adk-docs/docs/api-reference/rest\n",
      "/home/darren/localdev/gcp/adk-docs/docs/get-started\n",
      "/home/darren/localdev/gcp/adk-docs/docs/get-started/streaming\n",
      "/home/darren/localdev/gcp/adk-docs/docs/agents\n",
      "/home/darren/localdev/gcp/adk-docs/docs/agents/workflow-agents\n",
      "/home/darren/localdev/gcp/adk-docs/docs/artifacts\n",
      "/home/darren/localdev/gcp/adk-docs/docs/plugins\n",
      "/home/darren/localdev/gcp/adk-docs/docs/grounding\n",
      "/home/darren/localdev/gcp/adk-docs/examples/java/demos\n",
      "/home/darren/localdev/gcp/adk-docs/examples/java/demos/patent-search-agent\n",
      "/home/darren/localdev/gcp/adk-docs/examples/java/demos/patent-search-agent/src/main/java/tools/CloudRunFunction\n",
      "/home/darren/localdev/gcp/adk-docs/examples/python/tutorial/agent_team/adk-tutorial\n",
      "09:15:30.188:llms_gen_agent - DEBUG: Files\n",
      ":/home/darren/localdev/gcp/adk-docs/CONTRIBUTING.md\n",
      "/home/darren/localdev/gcp/adk-docs/README.md\n",
      "/home/darren/localdev/gcp/adk-docs/docs/contributing-guide.md\n",
      "/home/darren/localdev/gcp/adk-docs/docs/community.md\n",
      "/home/darren/localdev/gcp/adk-docs/docs/index.md\n",
      "/home/darren/localdev/gcp/adk-docs/docs/deploy/gke.md\n",
      "/home/darren/localdev/gcp/adk-docs/docs/deploy/cloud-run.md\n",
      "/home/darren/localdev/gcp/adk-docs/docs/deploy/agent-engine.md\n",
      "/home/darren/localdev/gcp/adk-docs/docs/deploy/index.md\n",
      "/home/darren/localdev/gcp/adk-docs/docs/sessions/state.md\n",
      "/home/darren/localdev/gcp/adk-docs/docs/sessions/session.md\n",
      "/home/darren/localdev/gcp/adk-docs/docs/sessions/memory.md\n",
      "/home/darren/localdev/gcp/adk-docs/docs/sessions/index.md\n",
      "/home/darren/localdev/gcp/adk-docs/docs/sessions/express-mode.md\n",
      "/home/darren/localdev/gcp/adk-docs/docs/tutorials/agent-team.md\n",
      "/home/darren/localdev/gcp/adk-docs/docs/tutorials/index.md\n",
      "/home/darren/localdev/gcp/adk-docs/docs/streaming/custom-streaming-ws.md\n",
      "/home/darren/localdev/gcp/adk-docs/docs/streaming/custom-streaming.md\n",
      "/home/darren/localdev/gcp/adk-docs/docs/streaming/streaming-tools.md\n",
      "/home/darren/localdev/gcp/adk-docs/docs/streaming/configuration.md\n",
      "/home/darren/localdev/gcp/adk-docs/docs/streaming/index.md\n",
      "/home/darren/localdev/gcp/adk-docs/docs/streaming/dev-guide/part1.md\n",
      "/home/darren/localdev/gcp/adk-docs/docs/callbacks/types-of-callbacks.md\n",
      "/home/darren/localdev/gcp/adk-docs/docs/callbacks/design-patterns-and-best-practices.md\n",
      "/home/darren/localdev/gcp/adk-docs/docs/callbacks/index.md\n",
      "/home/darren/localdev/gcp/adk-docs/docs/context/index.md\n",
      "/home/darren/localdev/gcp/adk-docs/docs/a2a/quickstart-exposing.md\n",
      "/home/darren/localdev/gcp/adk-docs/docs/a2a/intro.md\n",
      "/home/darren/localdev/gcp/adk-docs/docs/a2a/index.md\n",
      "/home/darren/localdev/gcp/adk-docs/docs/a2a/quickstart-consuming.md\n",
      "/home/darren/localdev/gcp/adk-docs/docs/runtime/runconfig.md\n",
      "/home/darren/localdev/gcp/adk-docs/docs/runtime/index.md\n",
      "/home/darren/localdev/gcp/adk-docs/docs/safety/index.md\n",
      "/home/darren/localdev/gcp/adk-docs/docs/observability/agentops.md\n",
      "/home/darren/localdev/gcp/adk-docs/docs/observability/cloud-trace.md\n",
      "/home/darren/localdev/gcp/adk-docs/docs/observability/phoenix.md\n",
      "/home/darren/localdev/gcp/adk-docs/docs/observability/weave.md\n",
      "/home/darren/localdev/gcp/adk-docs/docs/observability/arize-ax.md\n",
      "/home/darren/localdev/gcp/adk-docs/docs/observability/logging.md\n",
      "/home/darren/localdev/gcp/adk-docs/docs/events/index.md\n",
      "/home/darren/localdev/gcp/adk-docs/docs/tools/confirmation.md\n",
      "/home/darren/localdev/gcp/adk-docs/docs/tools/authentication.md\n",
      "/home/darren/localdev/gcp/adk-docs/docs/tools/built-in-tools.md\n",
      "/home/darren/localdev/gcp/adk-docs/docs/tools/openapi-tools.md\n",
      "/home/darren/localdev/gcp/adk-docs/docs/tools/google-cloud-tools.md\n",
      "/home/darren/localdev/gcp/adk-docs/docs/tools/mcp-tools.md\n",
      "/home/darren/localdev/gcp/adk-docs/docs/tools/third-party-tools.md\n",
      "/home/darren/localdev/gcp/adk-docs/docs/tools/performance.md\n",
      "/home/darren/localdev/gcp/adk-docs/docs/tools/function-tools.md\n",
      "/home/darren/localdev/gcp/adk-docs/docs/tools/index.md\n",
      "/home/darren/localdev/gcp/adk-docs/docs/mcp/index.md\n",
      "/home/darren/localdev/gcp/adk-docs/docs/evaluate/index.md\n",
      "/home/darren/localdev/gcp/adk-docs/docs/api-reference/index.md\n",
      "/home/darren/localdev/gcp/adk-docs/docs/api-reference/java/legal/jqueryUI.md\n",
      "/home/darren/localdev/gcp/adk-docs/docs/api-reference/java/legal/dejavufonts.md\n",
      "/home/darren/localdev/gcp/adk-docs/docs/api-reference/java/legal/jquery.md\n",
      "/home/darren/localdev/gcp/adk-docs/docs/api-reference/rest/index.md\n",
      "/home/darren/localdev/gcp/adk-docs/docs/get-started/testing.md\n",
      "/home/darren/localdev/gcp/adk-docs/docs/get-started/about.md\n",
      "/home/darren/localdev/gcp/adk-docs/docs/get-started/installation.md\n",
      "/home/darren/localdev/gcp/adk-docs/docs/get-started/quickstart.md\n",
      "/home/darren/localdev/gcp/adk-docs/docs/get-started/index.md\n",
      "/home/darren/localdev/gcp/adk-docs/docs/get-started/streaming/quickstart-streaming.md\n",
      "/home/darren/localdev/gcp/adk-docs/docs/get-started/streaming/quickstart-streaming-java.md\n",
      "/home/darren/localdev/gcp/adk-docs/docs/get-started/streaming/index.md\n",
      "/home/darren/localdev/gcp/adk-docs/docs/agents/multi-agents.md\n",
      "/home/darren/localdev/gcp/adk-docs/docs/agents/config.md\n",
      "/home/darren/localdev/gcp/adk-docs/docs/agents/models.md\n",
      "/home/darren/localdev/gcp/adk-docs/docs/agents/llm-agents.md\n",
      "/home/darren/localdev/gcp/adk-docs/docs/agents/custom-agents.md\n",
      "/home/darren/localdev/gcp/adk-docs/docs/agents/index.md\n",
      "/home/darren/localdev/gcp/adk-docs/docs/agents/workflow-agents/parallel-agents.md\n",
      "/home/darren/localdev/gcp/adk-docs/docs/agents/workflow-agents/sequential-agents.md\n",
      "/home/darren/localdev/gcp/adk-docs/docs/agents/workflow-agents/loop-agents.md\n",
      "/home/darren/localdev/gcp/adk-docs/docs/agents/workflow-agents/index.md\n",
      "/home/darren/localdev/gcp/adk-docs/docs/artifacts/index.md\n",
      "/home/darren/localdev/gcp/adk-docs/docs/plugins/index.md\n",
      "/home/darren/localdev/gcp/adk-docs/docs/grounding/vertex_ai_search_grounding.md\n",
      "/home/darren/localdev/gcp/adk-docs/docs/grounding/google_search_grounding.md\n",
      "/home/darren/localdev/gcp/adk-docs/examples/java/demos/README.md\n",
      "/home/darren/localdev/gcp/adk-docs/examples/java/demos/patent-search-agent/README.md\n",
      "/home/darren/localdev/gcp/adk-docs/examples/java/demos/patent-search-agent/src/main/java/tools/CloudRunFunction/README.md\n",
      "/home/darren/localdev/gcp/adk-docs/examples/python/tutorial/agent_team/adk-tutorial/readme.md\n",
      "09:15:30.188:llms_gen_agent - DEBUG: Exiting discover_files.\n"
     ]
    },
    {
     "name": "stdout",
     "output_type": "stream",
     "text": [
      "DEBUG: Full Event: content=Content(\n",
      "  parts=[\n",
      "    Part(\n",
      "      function_call=FunctionCall(\n",
      "        args={\n",
      "          'repo_path': '/home/darren/localdev/gcp/adk-docs'\n",
      "        },\n",
      "        id='adk-e49d33e3-2b04-4a07-84bd-7c4195509881',\n",
      "        name='discover_files'\n",
      "      ),\n",
      "      thought_signature=b'\\n\\xf7\\x04\\x01\\x1f\\xcc\\x85\\xb6\"R\\x01\\xbag\\xd6\\x94\\x0f5\\xefJ\\x8e\\xcc\\xc2I\\xf2U \\x93\\xaa\\xa3~S\\xc0P\\xc9\\xaa\\t\\xc5\\xacF{`\\\\\\x93e\\xc1z\\xcd\\xc2\\\\\\x1f\\xf8\\x9f\\xc2\\xa3_\\\\\\xee\\xefY\\xb5\\xfd\\xd8f\\x83\\xfa\\xf0]\\xb8\\xf4\\xdd\\x990\\xc0\\x8b\\xa7\\x9c\\xb2%\"U\\xd9\\x12.c\\xbej\\xa6\\xad\\xe0\\x0f{4\\xa8\\nN\\x1cP...'\n",
      "    ),\n",
      "  ],\n",
      "  role='model'\n",
      ") grounding_metadata=None partial=None turn_complete=None finish_reason=<FinishReason.STOP: 'STOP'> error_code=None error_message=None interrupted=None custom_metadata=None usage_metadata=GenerateContentResponseUsageMetadata(\n",
      "  candidates_token_count=21,\n",
      "  candidates_tokens_details=[\n",
      "    ModalityTokenCount(\n",
      "      modality=<MediaModality.TEXT: 'TEXT'>,\n",
      "      token_count=21\n",
      "    ),\n",
      "  ],\n",
      "  prompt_token_count=735,\n",
      "  prompt_tokens_details=[\n",
      "    ModalityTokenCount(\n",
      "      modality=<MediaModality.TEXT: 'TEXT'>,\n",
      "      token_count=735\n",
      "    ),\n",
      "  ],\n",
      "  thoughts_token_count=165,\n",
      "  total_token_count=921,\n",
      "  traffic_type=<TrafficType.ON_DEMAND: 'ON_DEMAND'>\n",
      ") live_session_resumption_update=None input_transcription=None output_transcription=None invocation_id='e-e17b0581-776f-42c8-93dd-c6d2ff378037' author='generate_llms_coordinator' actions=EventActions(skip_summarization=None, state_delta={}, artifact_delta={}, transfer_to_agent=None, escalate=None, requested_auth_configs={}) long_running_tool_ids=set() branch=None id='6f17ac0c-e450-4ab0-b3e0-01ae80df92e1' timestamp=1758442528.451415\n",
      "DEBUG: Full Event: content=Content(\n",
      "  parts=[\n",
      "    Part(\n",
      "      function_response=FunctionResponse(\n",
      "        id='adk-e49d33e3-2b04-4a07-84bd-7c4195509881',\n",
      "        name='discover_files',\n",
      "        response={\n",
      "          'files': [\n",
      "            '/home/darren/localdev/gcp/adk-docs/CONTRIBUTING.md',\n",
      "            '/home/darren/localdev/gcp/adk-docs/README.md',\n",
      "            '/home/darren/localdev/gcp/adk-docs/docs/contributing-guide.md',\n",
      "            '/home/darren/localdev/gcp/adk-docs/docs/community.md',\n",
      "            '/home/darren/localdev/gcp/adk-docs/docs/index.md',\n",
      "            <... 78 more items ...>,\n",
      "          ],\n",
      "          'status': 'success'\n",
      "        }\n",
      "      )\n",
      "    ),\n",
      "  ],\n",
      "  role='user'\n",
      ") grounding_metadata=None partial=None turn_complete=None finish_reason=None error_code=None error_message=None interrupted=None custom_metadata=None usage_metadata=None live_session_resumption_update=None input_transcription=None output_transcription=None invocation_id='e-e17b0581-776f-42c8-93dd-c6d2ff378037' author='generate_llms_coordinator' actions=EventActions(skip_summarization=None, state_delta={'dirs': ['/home/darren/localdev/gcp/adk-docs', '/home/darren/localdev/gcp/adk-docs/docs', '/home/darren/localdev/gcp/adk-docs/docs/deploy', '/home/darren/localdev/gcp/adk-docs/docs/sessions', '/home/darren/localdev/gcp/adk-docs/docs/tutorials', '/home/darren/localdev/gcp/adk-docs/docs/streaming', '/home/darren/localdev/gcp/adk-docs/docs/streaming/dev-guide', '/home/darren/localdev/gcp/adk-docs/docs/callbacks', '/home/darren/localdev/gcp/adk-docs/docs/context', '/home/darren/localdev/gcp/adk-docs/docs/a2a', '/home/darren/localdev/gcp/adk-docs/docs/runtime', '/home/darren/localdev/gcp/adk-docs/docs/safety', '/home/darren/localdev/gcp/adk-docs/docs/observability', '/home/darren/localdev/gcp/adk-docs/docs/events', '/home/darren/localdev/gcp/adk-docs/docs/tools', '/home/darren/localdev/gcp/adk-docs/docs/mcp', '/home/darren/localdev/gcp/adk-docs/docs/evaluate', '/home/darren/localdev/gcp/adk-docs/docs/api-reference', '/home/darren/localdev/gcp/adk-docs/docs/api-reference/java/legal', '/home/darren/localdev/gcp/adk-docs/docs/api-reference/rest', '/home/darren/localdev/gcp/adk-docs/docs/get-started', '/home/darren/localdev/gcp/adk-docs/docs/get-started/streaming', '/home/darren/localdev/gcp/adk-docs/docs/agents', '/home/darren/localdev/gcp/adk-docs/docs/agents/workflow-agents', '/home/darren/localdev/gcp/adk-docs/docs/artifacts', '/home/darren/localdev/gcp/adk-docs/docs/plugins', '/home/darren/localdev/gcp/adk-docs/docs/grounding', '/home/darren/localdev/gcp/adk-docs/examples/java/demos', '/home/darren/localdev/gcp/adk-docs/examples/java/demos/patent-search-agent', '/home/darren/localdev/gcp/adk-docs/examples/java/demos/patent-search-agent/src/main/java/tools/CloudRunFunction', '/home/darren/localdev/gcp/adk-docs/examples/python/tutorial/agent_team/adk-tutorial'], 'files': ['/home/darren/localdev/gcp/adk-docs/CONTRIBUTING.md', '/home/darren/localdev/gcp/adk-docs/README.md', '/home/darren/localdev/gcp/adk-docs/docs/contributing-guide.md', '/home/darren/localdev/gcp/adk-docs/docs/community.md', '/home/darren/localdev/gcp/adk-docs/docs/index.md', '/home/darren/localdev/gcp/adk-docs/docs/deploy/gke.md', '/home/darren/localdev/gcp/adk-docs/docs/deploy/cloud-run.md', '/home/darren/localdev/gcp/adk-docs/docs/deploy/agent-engine.md', '/home/darren/localdev/gcp/adk-docs/docs/deploy/index.md', '/home/darren/localdev/gcp/adk-docs/docs/sessions/state.md', '/home/darren/localdev/gcp/adk-docs/docs/sessions/session.md', '/home/darren/localdev/gcp/adk-docs/docs/sessions/memory.md', '/home/darren/localdev/gcp/adk-docs/docs/sessions/index.md', '/home/darren/localdev/gcp/adk-docs/docs/sessions/express-mode.md', '/home/darren/localdev/gcp/adk-docs/docs/tutorials/agent-team.md', '/home/darren/localdev/gcp/adk-docs/docs/tutorials/index.md', '/home/darren/localdev/gcp/adk-docs/docs/streaming/custom-streaming-ws.md', '/home/darren/localdev/gcp/adk-docs/docs/streaming/custom-streaming.md', '/home/darren/localdev/gcp/adk-docs/docs/streaming/streaming-tools.md', '/home/darren/localdev/gcp/adk-docs/docs/streaming/configuration.md', '/home/darren/localdev/gcp/adk-docs/docs/streaming/index.md', '/home/darren/localdev/gcp/adk-docs/docs/streaming/dev-guide/part1.md', '/home/darren/localdev/gcp/adk-docs/docs/callbacks/types-of-callbacks.md', '/home/darren/localdev/gcp/adk-docs/docs/callbacks/design-patterns-and-best-practices.md', '/home/darren/localdev/gcp/adk-docs/docs/callbacks/index.md', '/home/darren/localdev/gcp/adk-docs/docs/context/index.md', '/home/darren/localdev/gcp/adk-docs/docs/a2a/quickstart-exposing.md', '/home/darren/localdev/gcp/adk-docs/docs/a2a/intro.md', '/home/darren/localdev/gcp/adk-docs/docs/a2a/index.md', '/home/darren/localdev/gcp/adk-docs/docs/a2a/quickstart-consuming.md', '/home/darren/localdev/gcp/adk-docs/docs/runtime/runconfig.md', '/home/darren/localdev/gcp/adk-docs/docs/runtime/index.md', '/home/darren/localdev/gcp/adk-docs/docs/safety/index.md', '/home/darren/localdev/gcp/adk-docs/docs/observability/agentops.md', '/home/darren/localdev/gcp/adk-docs/docs/observability/cloud-trace.md', '/home/darren/localdev/gcp/adk-docs/docs/observability/phoenix.md', '/home/darren/localdev/gcp/adk-docs/docs/observability/weave.md', '/home/darren/localdev/gcp/adk-docs/docs/observability/arize-ax.md', '/home/darren/localdev/gcp/adk-docs/docs/observability/logging.md', '/home/darren/localdev/gcp/adk-docs/docs/events/index.md', '/home/darren/localdev/gcp/adk-docs/docs/tools/confirmation.md', '/home/darren/localdev/gcp/adk-docs/docs/tools/authentication.md', '/home/darren/localdev/gcp/adk-docs/docs/tools/built-in-tools.md', '/home/darren/localdev/gcp/adk-docs/docs/tools/openapi-tools.md', '/home/darren/localdev/gcp/adk-docs/docs/tools/google-cloud-tools.md', '/home/darren/localdev/gcp/adk-docs/docs/tools/mcp-tools.md', '/home/darren/localdev/gcp/adk-docs/docs/tools/third-party-tools.md', '/home/darren/localdev/gcp/adk-docs/docs/tools/performance.md', '/home/darren/localdev/gcp/adk-docs/docs/tools/function-tools.md', '/home/darren/localdev/gcp/adk-docs/docs/tools/index.md', '/home/darren/localdev/gcp/adk-docs/docs/mcp/index.md', '/home/darren/localdev/gcp/adk-docs/docs/evaluate/index.md', '/home/darren/localdev/gcp/adk-docs/docs/api-reference/index.md', '/home/darren/localdev/gcp/adk-docs/docs/api-reference/java/legal/jqueryUI.md', '/home/darren/localdev/gcp/adk-docs/docs/api-reference/java/legal/dejavufonts.md', '/home/darren/localdev/gcp/adk-docs/docs/api-reference/java/legal/jquery.md', '/home/darren/localdev/gcp/adk-docs/docs/api-reference/rest/index.md', '/home/darren/localdev/gcp/adk-docs/docs/get-started/testing.md', '/home/darren/localdev/gcp/adk-docs/docs/get-started/about.md', '/home/darren/localdev/gcp/adk-docs/docs/get-started/installation.md', '/home/darren/localdev/gcp/adk-docs/docs/get-started/quickstart.md', '/home/darren/localdev/gcp/adk-docs/docs/get-started/index.md', '/home/darren/localdev/gcp/adk-docs/docs/get-started/streaming/quickstart-streaming.md', '/home/darren/localdev/gcp/adk-docs/docs/get-started/streaming/quickstart-streaming-java.md', '/home/darren/localdev/gcp/adk-docs/docs/get-started/streaming/index.md', '/home/darren/localdev/gcp/adk-docs/docs/agents/multi-agents.md', '/home/darren/localdev/gcp/adk-docs/docs/agents/config.md', '/home/darren/localdev/gcp/adk-docs/docs/agents/models.md', '/home/darren/localdev/gcp/adk-docs/docs/agents/llm-agents.md', '/home/darren/localdev/gcp/adk-docs/docs/agents/custom-agents.md', '/home/darren/localdev/gcp/adk-docs/docs/agents/index.md', '/home/darren/localdev/gcp/adk-docs/docs/agents/workflow-agents/parallel-agents.md', '/home/darren/localdev/gcp/adk-docs/docs/agents/workflow-agents/sequential-agents.md', '/home/darren/localdev/gcp/adk-docs/docs/agents/workflow-agents/loop-agents.md', '/home/darren/localdev/gcp/adk-docs/docs/agents/workflow-agents/index.md', '/home/darren/localdev/gcp/adk-docs/docs/artifacts/index.md', '/home/darren/localdev/gcp/adk-docs/docs/plugins/index.md', '/home/darren/localdev/gcp/adk-docs/docs/grounding/vertex_ai_search_grounding.md', '/home/darren/localdev/gcp/adk-docs/docs/grounding/google_search_grounding.md', '/home/darren/localdev/gcp/adk-docs/examples/java/demos/README.md', '/home/darren/localdev/gcp/adk-docs/examples/java/demos/patent-search-agent/README.md', '/home/darren/localdev/gcp/adk-docs/examples/java/demos/patent-search-agent/src/main/java/tools/CloudRunFunction/README.md', '/home/darren/localdev/gcp/adk-docs/examples/python/tutorial/agent_team/adk-tutorial/readme.md']}, artifact_delta={}, transfer_to_agent=None, escalate=None, requested_auth_configs={}) long_running_tool_ids=None branch=None id='cf045b57-61d6-47c8-b03a-f11556a187e0' timestamp=1758442530.188994\n"
     ]
    },
    {
     "data": {
      "text/markdown": [
       "_Using tool document_summariser_agent..._"
      ],
      "text/plain": [
       "<IPython.core.display.Markdown object>"
      ]
     },
     "metadata": {},
     "output_type": "display_data"
    },
    {
     "name": "stdout",
     "output_type": "stream",
     "text": [
      "DEBUG: Full Event: content=Content(\n",
      "  parts=[\n",
      "    Part(\n",
      "      function_call=FunctionCall(\n",
      "        args={\n",
      "          'request': ''\n",
      "        },\n",
      "        id='adk-906d4794-8f55-4c83-8f6e-47dd1cd79b26',\n",
      "        name='document_summariser_agent'\n",
      "      ),\n",
      "      thought_signature=b'\\n\\xba\\x02\\x01\\x1f\\xcc\\x85\\xb6\\xf2\\xe3\\x12}\\xe1\\x98/\\x93G\\xe8\\x87\\x82\\xca\\x03\\x18\\x96\\x99\\x99Y\\xaa\\x03r\\x7fB>?\\xf2\\xbe\\xa0^\\xf5\\x89N\\xd4\\xa2\\xc5\\xc1\\xc5 \\x93\\xf1{\\x9b\\xc8\\xa3\\xb3\\x19I\\xe2U\"\\xca\\xcd\\xfcalJ\\x01G;\\x06\\xc8\"N\\x99\\xff\\x83\\xd9\\xb1\\x8f.\\xe6\\xaf\\x84}\\t\\xb0\\xec,\\x1fW\\xe1\\x1a\\xea\\xdeI)\\xb1\\xc7...'\n",
      "    ),\n",
      "  ],\n",
      "  role='model'\n",
      ") grounding_metadata=None partial=None turn_complete=None finish_reason=<FinishReason.STOP: 'STOP'> error_code=None error_message=None interrupted=None custom_metadata=None usage_metadata=GenerateContentResponseUsageMetadata(\n",
      "  candidates_token_count=7,\n",
      "  candidates_tokens_details=[\n",
      "    ModalityTokenCount(\n",
      "      modality=<MediaModality.TEXT: 'TEXT'>,\n",
      "      token_count=7\n",
      "    ),\n",
      "  ],\n",
      "  prompt_token_count=2887,\n",
      "  prompt_tokens_details=[\n",
      "    ModalityTokenCount(\n",
      "      modality=<MediaModality.TEXT: 'TEXT'>,\n",
      "      token_count=3050\n",
      "    ),\n",
      "  ],\n",
      "  thoughts_token_count=67,\n",
      "  total_token_count=2961,\n",
      "  traffic_type=<TrafficType.ON_DEMAND: 'ON_DEMAND'>\n",
      ") live_session_resumption_update=None input_transcription=None output_transcription=None invocation_id='e-e17b0581-776f-42c8-93dd-c6d2ff378037' author='generate_llms_coordinator' actions=EventActions(skip_summarization=None, state_delta={}, artifact_delta={}, transfer_to_agent=None, escalate=None, requested_auth_configs={}) long_running_tool_ids=set() branch=None id='69fa50cb-6ba8-43a8-a65d-eda3a58c5782' timestamp=1758442530.189858\n"
     ]
    },
    {
     "name": "stderr",
     "output_type": "stream",
     "text": [
      "09:15:32.877:llms_gen_agent - DEBUG: Entering after_file_read_callback for tool: FileRead\n",
      "09:15:32.877:llms_gen_agent - DEBUG: Args: {'file_path': '/home/darren/localdev/gcp/adk-docs/CONTRIBUTING.md'}\n",
      "09:15:32.878:llms_gen_agent - DEBUG: Entering after_file_read_callback for tool: FileRead\n",
      "09:15:32.878:llms_gen_agent - DEBUG: Args: {'file_path': '/home/darren/localdev/gcp/adk-docs/README.md'}\n",
      "09:15:32.879:llms_gen_agent - DEBUG: Entering after_file_read_callback for tool: FileRead\n",
      "09:15:32.880:llms_gen_agent - DEBUG: Args: {'file_path': '/home/darren/localdev/gcp/adk-docs/docs/contributing-guide.md'}\n",
      "09:15:32.880:llms_gen_agent - DEBUG: Entering after_file_read_callback for tool: FileRead\n",
      "09:15:32.881:llms_gen_agent - DEBUG: Args: {'file_path': '/home/darren/localdev/gcp/adk-docs/docs/community.md'}\n",
      "09:15:32.882:llms_gen_agent - DEBUG: Entering after_file_read_callback for tool: FileRead\n",
      "09:15:32.882:llms_gen_agent - DEBUG: Args: {'file_path': '/home/darren/localdev/gcp/adk-docs/docs/index.md'}\n",
      "09:15:38.430:llms_gen_agent - DEBUG: --- Callback: strip_json_markdown_callback running for agent: content_summarizer_agent ---\n"
     ]
    },
    {
     "name": "stdout",
     "output_type": "stream",
     "text": [
      "--- Callback: Original LLM response text (first 100 chars): '{\"summaries\": {\"/home/darren/localdev/gcp/adk-docs/CONTRIBUTING.md\": \"This document outlines the pro...'\n",
      "--- Callback: No markdown delimiters found or text unchanged. ---\n",
      "--- Callback: Returning original LLM response. ---\n",
      "DEBUG: Full Event: content=Content(\n",
      "  parts=[\n",
      "    Part(\n",
      "      function_response=FunctionResponse(\n",
      "        id='adk-906d4794-8f55-4c83-8f6e-47dd1cd79b26',\n",
      "        name='document_summariser_agent',\n",
      "        response={\n",
      "          'result': '{\"summaries\": {\"/home/darren/localdev/gcp/adk-docs/CONTRIBUTING.md\": \"This document outlines the process for contributing to the project, emphasizing the need to sign a Contributor License Agreement (CLA) and review community guidelines. It details the development setup, including cloning the repository, setting up a virtual environment, installing dependencies, and running a local development server. The workflow for contributions involves finding issues, creating pull requests, undergoing code reviews, and merging approved changes.\", \"/home/darren/localdev/gcp/adk-docs/README.md\": \"This README introduces the Agent Development Kit (ADK), an open-source, code-first toolkit for building, evaluating, and deploying AI agents. It highlights key features such as a rich tool ecosystem, code-first development, modular multi-agent systems, tracing, monitoring, and flexible deployment options. The document also provides installation instructions for Python (pip) and Java (Maven/Gradle), links to full documentation, and encourages community contributions.\", \"/home/darren/localdev/gcp/adk-docs/docs/contributing-guide.md\": \"This guide details how to contribute to the Agent Development Kit (ADK) across its various repositories, including Python, Java, documentation, and web UI. Before contributing, users must sign a Contributor License Agreement (CLA) and adhere to Google\\'s Open Source Community Guidelines. It outlines methods for contribution, such as reporting issues, suggesting enhancements, improving documentation, and writing code, all primarily through GitHub issues and pull requests.\", \"/home/darren/localdev/gcp/adk-docs/docs/community.md\": \"This document lists community resources for the Agent Development Kit (ADK), including community-provided translations in Chinese, Korean, and Japanese. It also features tutorials, guides, blog posts, and a collection of videos and screencasts showcasing ADK features and use cases. The page concludes by inviting users to contribute their own ADK resources, directing them to the main contributing guide.\", \"/home/darren/localdev/gcp/adk-docs/docs/index.md\": \"This document serves as the main entry point for the Agent Development Kit (ADK) documentation, defining it as a flexible, modular, model-agnostic framework for developing and deploying AI agents. It provides quick installation instructions for both Python and Java, alongside links to quickstarts, tutorials, sample agents, and API references. Key features highlighted include flexible orchestration, multi-agent architecture, a rich tool ecosystem, deployment readiness, built-in evaluation, and guidelines for building safe and secure agents.\", \"project\": \"The Agent Development Kit (ADK) is an open-source, code-first framework designed for building, evaluating, and deploying AI agents, offering flexibility and control across various platforms. It is model-agnostic and deployment-agnostic, optimized for the Google ecosystem but compatible with other frameworks, and supports both Python and Java development. ADK emphasizes features like a rich tool ecosystem, modular multi-agent systems, built-in observability, and easy deployment to facilitate complex AI agent development. \\\\n\\\\nThis project\\'s documentation outlines the core framework, installation methods, key features like flexible orchestration, multi-agent architecture, and robust tools, alongside deployment, evaluation, and safety considerations. It also provides comprehensive guides for community contributions, including issue reporting, enhancement suggestions, and code submissions across its Python, Java, documentation, and web repositories, ensuring a collaborative development environment.\"}}'\n",
      "        }\n",
      "      )\n",
      "    ),\n",
      "  ],\n",
      "  role='user'\n",
      ") grounding_metadata=None partial=None turn_complete=None finish_reason=None error_code=None error_message=None interrupted=None custom_metadata=None usage_metadata=None live_session_resumption_update=None input_transcription=None output_transcription=None invocation_id='e-e17b0581-776f-42c8-93dd-c6d2ff378037' author='generate_llms_coordinator' actions=EventActions(skip_summarization=None, state_delta={'files_content': {'/home/darren/localdev/gcp/adk-docs/CONTRIBUTING.md': \"# How to contribute\\n\\nThank you for your interest in contributing! We appreciate your willingness to\\nshare your patches and improvements with the project.\\n\\n## Getting Started\\n\\nBefore you contribute, please take a moment to review the following:\\n\\n### 1. Sign our Contributor License Agreement\\n\\nContributions to this project must be accompanied by a\\n[Contributor License Agreement](https://cla.developers.google.com/about) (CLA).\\nYou (or your employer) retain the copyright to your contribution; this simply\\ngives us permission to use and redistribute your contributions as part of the\\nproject.\\n\\nIf you or your current employer have already signed the Google CLA (even if it\\nwas for a different project), you probably don't need to do it again.\\n\\nVisit <https://cla.developers.google.com/> to see your current agreements or to\\nsign a new one.\\n\\n### 2. Review Community Guidelines\\n\\nWe adhere to [Google's Open Source Community Guidelines](https://opensource.google/conduct/).\\nPlease familiarize yourself with these guidelines to ensure a positive and\\ncollaborative environment for everyone.\\n\\n## Contribution Workflow\\n\\n### Finding Something to Work On\\n\\nCheck the [GitHub Issues](https://github.com/google/adk-docs/issues) for bug\\nreports or feature requests. Feel free to pick up an existing issue or open\\na new one if you have an idea or find a bug.\\n\\n### Development Setup\\n\\n1.  **Clone the repository:**\\n\\n    ```shell\\n    git clone git@github.com:google/adk-docs.git\\n    cd adk-docs\\n    ```\\n\\n2.  **Create and activate a virtual environment:**\\n\\n    ```shell\\n    python -m venv venv\\n    source venv/bin/activate\\n    ```\\n\\n3.  **Install dependencies:**\\n\\n    ```shell\\n    pip install -r requirements.txt\\n    ```\\n\\n4.  **Run the local development server:**\\n\\n    ```shell\\n    mkdocs serve\\n    ```\\n\\n    This command starts a local server, typically at `http://127.0.0.1:8000/`.\\n\\n    The site will automatically reload when you save changes to the documentation files.\\n    For more details on the site configuration, see the mkdocs.yml file.\\n\\n### Code Reviews\\n\\nAll contributions, including those from project members, undergo a review process.\\n\\n1.  **Create a Pull Request:** We use GitHub Pull Requests (PRs) for code review.\\n    Please refer to GitHub Help if you're unfamiliar with PRs.\\n2.  **Review Process:** Project maintainers will review your PR, providing feedback\\n    or requesting changes if necessary.\\n3.  **Merging:** Once the PR is approved and passes any required checks, it will be\\n    merged into the main branch.\\n\\nConsult [GitHub Help](https://help.github.com/articles/about-pull-requests/) for\\nmore information on using pull requests. We look forward to your contributions!\\n\", '/home/darren/localdev/gcp/adk-docs/README.md': '# Agent Development Kit (ADK)\\n\\n[![License](https://img.shields.io/badge/License-Apache_2.0-blue.svg)](LICENSE)\\n[![PyPI](https://img.shields.io/pypi/v/google-adk)](https://pypi.org/project/google-adk/)\\n[![Maven Central](https://img.shields.io/maven-central/v/com.google.adk/google-adk)](https://search.maven.org/artifact/com.google.adk/google-adk)\\n\\n<html>\\n  <h2 align=\"center\">\\n    <img src=\"docs/assets/agent-development-kit.png\" width=\"150\"/>\\n  </h2>\\n</html>\\n\\n**An open-source, code-first toolkit for building, evaluating, and\\ndeploying sophisticated AI agents with flexibility and control.**\\n\\nAgent Development Kit (ADK) is a flexible and modular framework for **developing\\nand deploying AI agents**. While optimized for Gemini and the Google ecosystem,\\nADK is **model-agnostic**, **deployment-agnostic**, and is built for\\n**compatibility with other frameworks**. ADK was designed to make agent\\ndevelopment feel more like software development, to make it easier for\\ndevelopers to create, deploy, and orchestrate agentic architectures that range\\nfrom simple tasks to complex workflows.\\n\\n---\\n\\n## ✨ Key Features\\n\\n- **Rich Tool Ecosystem**: Utilize pre-built tools, custom functions,\\n  OpenAPI specs, or integrate existing tools to give agents diverse\\n  capabilities, all for tight integration with the Google ecosystem.\\n\\n- **Code-First Development**: Define agent logic, tools, and orchestration\\n  directly in Python and Java for ultimate flexibility, testability, and versioning.\\n\\n- **Modular Multi-Agent Systems**: Design scalable applications by composing\\n  multiple specialized agents into flexible hierarchies.\\n\\n- **Tracing and Monitoring**: Built-in agent observability for debugging and optimizing\\n  workflows with support from external providers like [AgentOps](https://www.agentops.ai).\\n\\n- **Deploy Anywhere**: Easily containerize and deploy agents on Cloud Run or\\n  scale seamlessly with Vertex AI Agent Engine.\\n\\n## 🚀 Installation\\n\\nYou can install the Agent Development Kit (ADK) using your preferred package manager for Python or build tool for Java.\\n\\n### For Python (pip)\\n\\n```bash\\npip install google-adk\\n```\\n\\n### For Java (Maven)\\n\\n```xml\\n<dependency>\\n    <groupId>com.google.adk</groupId>\\n    <artifactId>google-adk</artifactId>\\n    <version>0.1.0</version>\\n</dependency>\\n```\\n\\n### For Java (Gradle)\\n\\n```groovy\\ndependencies {\\n    implementation \\'com.google.adk:google-adk:0.1.0\\'\\n}\\n```\\n\\n## 📚 Documentation\\n\\nExplore the full documentation for detailed guides on building, evaluating, and\\ndeploying agents:\\n\\n* **[Documentation](https://google.github.io/adk-docs)**\\n\\n## 🤝 Contributing\\n\\nWe welcome contributions from the community! Whether it\\'s bug reports, feature\\nrequests, documentation improvements, or code contributions, please see our\\n[**Contributing Guidelines**](./CONTRIBUTING.md) to get started.\\n\\n## 📄 License\\n\\nThis project is licensed under the Apache 2.0 License - see the\\n[LICENSE](LICENSE) file for details.\\n\\n---\\n\\n*Happy Agent Building!*\\n', '/home/darren/localdev/gcp/adk-docs/docs/contributing-guide.md': \"Thank you for your interest in contributing to the Agent Development Kit (ADK)! We welcome contributions to both the core framework (Python and Java) and its documentation.\\n\\nThis guide provides information on how to get involved.\\n\\n## 1. [`google/adk-python`](https://github.com/google/adk-python) { #google-adk-python }\\n\\nContains the core Python library source code.\\n\\n## 2. [`google/adk-java`](https://github.com/google/adk-java) { #google-adk-java }\\n\\nContains the core Java library source code.\\n\\n## 3. [`google/adk-docs`](https://github.com/google/adk-docs) { #google-adk-docs }\\n\\nContains the source for the documentation site you are currently reading.\\n\\n## 4. [`google/adk-web`](https://github.com/google/adk-web) { #google-adk-web }\\n\\nContains the source for the `adk web` dev UI.\\n\\n## Before you begin\\n\\n### ✏️ Sign our Contributor License Agreement\\n\\nContributions to this project must be accompanied by a\\n[Contributor License Agreement](https://cla.developers.google.com/about) (CLA).\\nYou (or your employer) retain the copyright to your contribution; this simply\\ngives us permission to use and redistribute your contributions as part of the\\nproject.\\n\\nIf you or your current employer have already signed the Google CLA (even if it\\nwas for a different project), you probably don't need to do it again.\\n\\nVisit <https://cla.developers.google.com/> to see your current agreements or to\\nsign a new one.\\n\\n### 📜 Review our community guidelines\\n\\nThis project follows\\n[Google's Open Source Community Guidelines](https://opensource.google/conduct/).\\n\\n## 💬 Join the Discussion!\\n\\nHave questions, want to share ideas, or discuss how you're using the ADK? Head over to our **[Python](https://github.com/google/adk-python/discussions)** or **[Java](https://github.com/google/adk-java/discussions)** Discussions!\\n\\nThis is the primary place for:\\n\\n* Asking questions and getting help from the community and maintainers.\\n* Sharing your projects or use cases (`Show and Tell`).\\n* Discussing potential features or improvements before creating a formal issue.\\n* General conversation about the ADK.\\n\\n## How to Contribute\\n\\nThere are several ways you can contribute to the ADK:\\n\\n### 1. Reporting Issues (Bugs & Errors) { #reporting-issues-bugs-errors }\\n\\nIf you find a bug in the framework or an error in the documentation:\\n\\n* **Framework Bugs:** Open an issue in [`google/adk-python`](https://github.com/google/adk-python/issues/new) or in [`google/adk-java`](https://github.com/google/adk-java/issues/new)\\n* **Documentation Errors:** [Open an issue in `google/adk-docs` (use bug template)](https://github.com/google/adk-docs/issues/new?template=bug_report.md)\\n\\n### 2. Suggesting Enhancements { #suggesting-enhancements }\\n\\nHave an idea for a new feature or an improvement to an existing one?\\n\\n* **Framework Enhancements:** Open an issue in [`google/adk-python`](https://github.com/google/adk-python/issues/new) or in [`google/adk-java`](https://github.com/google/adk-java/issues/new)\\n* **Documentation Enhancements:** [Open an issue in `google/adk-docs`](https://github.com/google/adk-docs/issues/new)\\n\\n### 3. Improving Documentation { #improving-documentation }\\n\\nFound a typo, unclear explanation, or missing information? Submit your changes directly:\\n\\n* **How:** Submit a Pull Request (PR) with your suggested improvements.\\n* **Where:** [Create a Pull Request in `google/adk-docs`](https://github.com/google/adk-docs/pulls)\\n\\n### 4. Writing Code { #writing-code }\\n\\nHelp fix bugs, implement new features or contribute code samples for the documentation:\\n\\n**How:** Submit a Pull Request (PR) with your code changes.\\n\\n* **Python Framework:** [Create a Pull Request in `google/adk-python`](https://github.com/google/adk-python/pulls)\\n* **Java Framework:** [Create a Pull Request in `google/adk-java`](https://github.com/google/adk-java/pulls)\\n* **Documentation:** [Create a Pull Request in `google/adk-docs`](https://github.com/google/adk-docs/pulls)\\n\\n### Code Reviews\\n\\n* All contributions, including those from project members, undergo a review process.\\n\\n* We use GitHub Pull Requests (PRs) for code submission and review. Please ensure your PR clearly describes the changes you are making.\\n\\n## License\\n\\nBy contributing, you agree that your contributions will be licensed under the project's [Apache 2.0 License](https://github.com/google/adk-docs/blob/main/LICENSE).\\n\\n## Questions?\\n\\nIf you get stuck or have questions, feel free to open an issue on the relevant repository's issue tracker.\\n\", '/home/darren/localdev/gcp/adk-docs/docs/community.md': '# Community Resources\\n\\nWelcome! This page highlights resources maintained by the Agent Development Kit\\ncommunity.\\n\\n!!! info\\n\\n    Google and the ADK team do not provide support for the content linked in\\n    these external community resources.\\n\\n## Translations\\n\\nCommunity-provided translations of the ADK documentation.\\n\\n*   **[adk.wiki - ADK Documentation (Chinese)](https://adk.wiki/)**\\n\\n    > adk.wiki is the Chinese version of the Agent Development Kit\\n    > documentation, maintained by an individual. The documentation is\\n    > continuously updated and translated to provide a localized reading\\n    > experience for developers in China.\\n\\n*   **[ADK Documentation (Korean, 한국어)](https://adk-labs.github.io/adk-docs/ko/)**\\n\\n    > the Korean version of the Agent Development Kit\\n    > documentation, maintained by an individual. The documentation is\\n    > continuously updated and translated to provide a localized reading\\n    > experience for developers in South Korea.\\n\\n*   **[ADK Documentation (Japanese, 日本語)](https://adk-labs.github.io/adk-docs/ja/)**\\n\\n    > the Japanese version of the Agent Development Kit\\n    > documentation, maintained by an individual. The documentation is\\n    > continuously updated and translated to provide a localized reading\\n    > experience for developers in Japan.\\n\\n## Tutorials, Guides & Blog Posts\\n\\n*Find community-written guides covering ADK features, use cases, and\\nintegrations here.*\\n\\n*   **[Build an e-commerce recommendation AI agents with ADK + Vector Search](https://github.com/google/adk-docs/blob/main/examples/python/notebooks/shop_agent.ipynb)**\\n\\n    > In this tutorial, we will explore how to build a simple multi-agent system for an \\n    > e-commerce site, designed to offer the \"Generative Recommendations\" you find in the \\n    > [Shopper\\'s Concierge demo](https://www.youtube.com/watch?v=LwHPYyw7u6U).\\n\\n* **[Google ADK + Vertex AI Live API](https://medium.com/google-cloud/google-adk-vertex-ai-live-api-125238982d5e)**\\n\\n    > Going Beyond the ADK CLI by Building Streaming Experiences with the Agent Development Kit and the Vertex AI Live API.\\n\\n## Videos & Screencasts\\n\\nDiscover video walkthroughs, talks, and demos showcasing ADK.\\n\\n<div class=\"video-grid\">\\n  <div class=\"video-item\">\\n    <div class=\"video-container\">\\n      <iframe src=\"https://www.youtube-nocookie.com/embed/zgrOwow_uTQ?si=1xVxuZyW022Rq5ZC\" title=\"YouTube video player\" frameborder=\"0\" allow=\"accelerometer; autoplay; clipboard-write; encrypted-media; gyroscope; picture-in-picture; web-share\" referrerpolicy=\"strict-origin-when-cross-origin\" allowfullscreen></iframe>\\n    </div>\\n  </div>\\n\\n  <div class=\"video-item\">\\n    <div class=\"video-container\">\\n      <iframe src=\"https://www.youtube-nocookie.com/embed/44C8u0CDtSo?si=EkZu_m5O-fQPzORk\" title=\"YouTube video player\" frameborder=\"0\" allow=\"accelerometer; autoplay; clipboard-write; encrypted-media; gyroscope; picture-in-picture; web-share\" referrerpolicy=\"strict-origin-when-cross-origin\" allowfullscreen></iframe>\\n    </div>\\n  </div>\\n\\n  <div class=\"video-item\">\\n    <div class=\"video-container\">\\n      <iframe src=\"https://www.youtube-nocookie.com/embed/efcUXoMX818?si=Dwez2zH8OSwf7Ktg\" title=\"YouTube video player\" frameborder=\"0\" allow=\"accelerometer; autoplay; clipboard-write; encrypted-media; gyroscope; picture-in-picture; web-share\" referrerpolicy=\"strict-origin-when-cross-origin\" allowfullscreen></iframe>\\n    </div>\\n  </div>\\n\\n  <div class=\"video-item\">\\n    <div class=\"video-container\">\\n      <iframe src=\"https://www.youtube-nocookie.com/embed/hPzjkQFV5yI?si=GNbDQ1iqP4fok-SY\" title=\"YouTube video player\" frameborder=\"0\" allow=\"accelerometer; autoplay; clipboard-write; encrypted-media; gyroscope; picture-in-picture; web-share\" referrerpolicy=\"strict-origin-when-cross-origin\" allowfullscreen></iframe>\\n    </div>\\n  </div>\\n\\n  <div class=\"video-item\">\\n    <div class=\"video-container\">\\n      <iframe src=\"https://www.youtube-nocookie.com/embed/LwHPYyw7u6U\" title=\"YouTube video player\" frameborder=\"0\" allow=\"accelerometer; autoplay; clipboard-write; encrypted-media; gyroscope; picture-in-picture; web-share\" referrerpolicy=\"strict-origin-when-cross-origin\" allowfullscreen></iframe>\\n    </div>\\n  </div>\\n\\n  <div class=\"video-item\">\\n    <div class=\"video-container\">\\n      <iframe src=\"https://www.youtube-nocookie.com/embed/5ZmaWY7UX6k\" title=\"ADK Tools Walkthrough\" frameborder=\"0\" allow=\"accelerometer; autoplay; clipboard-write; encrypted-media; gyroscope; picture-in-picture; web-share\" referrerpolicy=\"strict-origin-when-cross-origin\" allowfullscreen></iframe>\\n    </div>\\n  </div>\\n\\n</div>\\n\\n*   **[Agent Development Kit (ADK) Masterclass: Build AI Agents & Automate Workflows (Beginner to Pro)](https://www.youtube.com/watch?v=P4VFL9nIaIA)**\\n\\n    > A comprehensive crash course that takes you from beginner to expert in Google\\'s Agent Development Kit. \\n    > Covers 12 hands-on examples progressing from single agent setup to advanced multi-agent workflows.\\n    > Includes step-by-step code walkthroughs and downloadable source code for all examples.\\n\\n## Contributing Your Resource\\n\\nHave an ADK resource to share (tutorial, translation, tool, video, example)?\\n\\nRefer to the steps in the [Contributing Guide](contributing-guide.md) for more\\ninformation on how to get involved!\\n\\nThank you for your contributions to Agent Development Kit! ❤️\\n', '/home/darren/localdev/gcp/adk-docs/docs/index.md': '---\\nhide:\\n  - toc\\n---\\n\\n!!! tip \"What\\'s new\"\\n    Build agents without code. Check out the\\n    [Agent Config](/adk-docs/agents/config/) feature.\\n\\n<div style=\"text-align: center;\">\\n  <div class=\"centered-logo-text-group\">\\n    <img src=\"assets/agent-development-kit.png\" alt=\"Agent Development Kit Logo\" width=\"100\">\\n    <h1>Agent Development Kit</h1>\\n  </div>\\n</div>\\n\\n## What is Agent Development Kit?\\n\\nAgent Development Kit (ADK) is a flexible and modular framework for **developing\\nand deploying AI agents**. While optimized for Gemini and the Google ecosystem,\\nADK is **model-agnostic**, **deployment-agnostic**, and is built for\\n**compatibility with other frameworks**. ADK was designed to make agent\\ndevelopment feel more like software development, to make it easier for\\ndevelopers to create, deploy, and orchestrate agentic architectures that range\\nfrom simple tasks to complex workflows.\\n\\n<div id=\"centered-install-tabs\" class=\"install-command-container\" markdown=\"1\">\\n\\n<p class=\"get-started-text\" style=\"text-align: center;\">Get started:</p>\\n\\n=== \"Python\"\\n    <br>\\n    <p style=\"text-align: center;\">\\n    <code>pip install google-adk</code>\\n    </p>\\n\\n=== \"Java\"\\n\\n    ```xml title=\"pom.xml\"\\n    <dependency>\\n        <groupId>com.google.adk</groupId>\\n        <artifactId>google-adk</artifactId>\\n        <version>0.2.0</version>\\n    </dependency>\\n    ```\\n\\n    ```gradle title=\"build.gradle\"\\n    dependencies {\\n        implementation \\'com.google.adk:google-adk:0.2.0\\'\\n    }\\n    ```\\n</div>\\n\\n\\n<p style=\"text-align:center;\">\\n  <a href=\"get-started/quickstart/\" class=\"md-button\" style=\"margin:3px\">Quickstart</a>\\n  <a href=\"tutorials/\" class=\"md-button\" style=\"margin:3px\">Tutorials</a>\\n  <a href=\"http://github.com/google/adk-samples\" class=\"md-button\" target=\"_blank\" style=\"margin:3px\">Sample Agents</a>\\n  <a href=\"api-reference/\" class=\"md-button\" style=\"margin:3px\">API Reference</a>\\n  <a href=\"contributing-guide/\" class=\"md-button\" style=\"margin:3px\">Contribute ❤️</a>\\n</p>\\n\\n---\\n\\n## Learn more\\n\\n[:fontawesome-brands-youtube:{.youtube-red-icon} Watch \"Introducing Agent Development Kit\"!](https://www.youtube.com/watch?v=zgrOwow_uTQ target=\"_blank\" rel=\"noopener noreferrer\")\\n\\n<div class=\"grid cards\" markdown>\\n\\n-   :material-transit-connection-variant: **Flexible Orchestration**\\n\\n    ---\\n\\n    Define workflows using workflow agents (`Sequential`, `Parallel`, `Loop`)\\n    for predictable pipelines, or leverage LLM-driven dynamic routing\\n    (`LlmAgent` transfer) for adaptive behavior.\\n\\n    [**Learn about agents**](agents/index.md)\\n\\n-   :material-graph: **Multi-Agent Architecture**\\n\\n    ---\\n\\n    Build modular and scalable applications by composing multiple specialized\\n    agents in a hierarchy. Enable complex coordination and delegation.\\n\\n    [**Explore multi-agent systems**](agents/multi-agents.md)\\n\\n-   :material-toolbox-outline: **Rich Tool Ecosystem**\\n\\n    ---\\n\\n    Equip agents with diverse capabilities: use pre-built tools (Search, Code\\n    Exec), create custom functions, integrate 3rd-party libraries (LangChain,\\n    CrewAI), or even use other agents as tools.\\n\\n    [**Browse tools**](tools/index.md)\\n\\n-   :material-rocket-launch-outline: **Deployment Ready**\\n\\n    ---\\n\\n    Containerize and deploy your agents anywhere – run locally, scale with\\n    Vertex AI Agent Engine, or integrate into custom infrastructure using Cloud\\n    Run or Docker.\\n\\n    [**Deploy agents**](deploy/index.md)\\n\\n-   :material-clipboard-check-outline: **Built-in Evaluation**\\n\\n    ---\\n\\n    Systematically assess agent performance by evaluating both the final\\n    response quality and the step-by-step execution trajectory against\\n    predefined test cases.\\n\\n    [**Evaluate agents**](evaluate/index.md)\\n\\n-   :material-console-line: **Building Safe and Secure Agents**\\n\\n    ---\\n\\n    Learn how to building powerful and trustworthy agents by implementing\\n    security and safety patterns and best practices into your agent\\'s design.\\n\\n    [**Safety and Security**](safety/index.md)\\n\\n</div>\\n'}, 'doc_summaries': {'summaries': {'/home/darren/localdev/gcp/adk-docs/CONTRIBUTING.md': 'This document outlines the process for contributing to the project, emphasizing the need to sign a Contributor License Agreement (CLA) and review community guidelines. It details the development setup, including cloning the repository, setting up a virtual environment, installing dependencies, and running a local development server. The workflow for contributions involves finding issues, creating pull requests, undergoing code reviews, and merging approved changes.', '/home/darren/localdev/gcp/adk-docs/README.md': 'This README introduces the Agent Development Kit (ADK), an open-source, code-first toolkit for building, evaluating, and deploying AI agents. It highlights key features such as a rich tool ecosystem, code-first development, modular multi-agent systems, tracing, monitoring, and flexible deployment options. The document also provides installation instructions for Python (pip) and Java (Maven/Gradle), links to full documentation, and encourages community contributions.', '/home/darren/localdev/gcp/adk-docs/docs/contributing-guide.md': \"This guide details how to contribute to the Agent Development Kit (ADK) across its various repositories, including Python, Java, documentation, and web UI. Before contributing, users must sign a Contributor License Agreement (CLA) and adhere to Google's Open Source Community Guidelines. It outlines methods for contribution, such as reporting issues, suggesting enhancements, improving documentation, and writing code, all primarily through GitHub issues and pull requests.\", '/home/darren/localdev/gcp/adk-docs/docs/community.md': 'This document lists community resources for the Agent Development Kit (ADK), including community-provided translations in Chinese, Korean, and Japanese. It also features tutorials, guides, blog posts, and a collection of videos and screencasts showcasing ADK features and use cases. The page concludes by inviting users to contribute their own ADK resources, directing them to the main contributing guide.', '/home/darren/localdev/gcp/adk-docs/docs/index.md': 'This document serves as the main entry point for the Agent Development Kit (ADK) documentation, defining it as a flexible, modular, model-agnostic framework for developing and deploying AI agents. It provides quick installation instructions for both Python and Java, alongside links to quickstarts, tutorials, sample agents, and API references. Key features highlighted include flexible orchestration, multi-agent architecture, a rich tool ecosystem, deployment readiness, built-in evaluation, and guidelines for building safe and secure agents.', 'project': \"The Agent Development Kit (ADK) is an open-source, code-first framework designed for building, evaluating, and deploying AI agents, offering flexibility and control across various platforms. It is model-agnostic and deployment-agnostic, optimized for the Google ecosystem but compatible with other frameworks, and supports both Python and Java development. ADK emphasizes features like a rich tool ecosystem, modular multi-agent systems, built-in observability, and easy deployment to facilitate complex AI agent development. \\n\\nThis project's documentation outlines the core framework, installation methods, key features like flexible orchestration, multi-agent architecture, and robust tools, alongside deployment, evaluation, and safety considerations. It also provides comprehensive guides for community contributions, including issue reporting, enhancement suggestions, and code submissions across its Python, Java, documentation, and web repositories, ensuring a collaborative development environment.\"}}}, artifact_delta={}, transfer_to_agent=None, escalate=None, requested_auth_configs={}) long_running_tool_ids=None branch=None id='9cb476b6-8ee5-4ee4-abf3-35d56f669e13' timestamp=1758442538.431065\n"
     ]
    },
    {
     "data": {
      "text/markdown": [
       "_Using tool generate_llms_txt..._"
      ],
      "text/plain": [
       "<IPython.core.display.Markdown object>"
      ]
     },
     "metadata": {},
     "output_type": "display_data"
    },
    {
     "name": "stderr",
     "output_type": "stream",
     "text": [
      "09:15:39.137:llms_gen_agent - DEBUG: Entering generate_llms_txt for repo_path: /home/darren/localdev/gcp/adk-docs\n",
      "09:15:39.137:llms_gen_agent - DEBUG: We have 31 directories.\n",
      "09:15:39.137:llms_gen_agent - DEBUG: We have 83 files\n",
      "09:15:39.138:llms_gen_agent - DEBUG: We have 5 sumamries\n",
      "09:15:39.138:llms_gen_agent - DEBUG: Project summary: The Agent Development Kit (ADK) is an open-source, code-first framework designed for building, evaluating, and deploying AI agents, offering flexibility and control across various platforms. It is model-agnostic and deployment-agnostic, optimized for the Google ecosystem but compatible with other frameworks, and supports both Python and Java development. ADK emphasizes features like a rich tool ecosystem, modular multi-agent systems, built-in observability, and easy deployment to facilitate complex AI agent development. \n",
      "\n",
      "This project's documentation outlines the core framework, installation methods, key features like flexible orchestration, multi-agent architecture, and robust tools, alongside deployment, evaluation, and safety considerations. It also provides comprehensive guides for community contributions, including issue reporting, enhancement suggestions, and code submissions across its Python, Java, documentation, and web repositories, ensuring a collaborative development environment.\n",
      "09:15:39.139:llms_gen_agent - DEBUG: Exiting generate_llms_txt. llms.txt generated at /home/darren/localdev/Python/llms-gen/notebooks/temp/llms.txt\n"
     ]
    },
    {
     "name": "stdout",
     "output_type": "stream",
     "text": [
      "DEBUG: Full Event: content=Content(\n",
      "  parts=[\n",
      "    Part(\n",
      "      function_call=FunctionCall(\n",
      "        args={\n",
      "          'repo_path': '/home/darren/localdev/gcp/adk-docs'\n",
      "        },\n",
      "        id='adk-dc7cc64b-39c3-40fe-aa89-b888fe4a8ccd',\n",
      "        name='generate_llms_txt'\n",
      "      ),\n",
      "      thought_signature=b'\\n\\xfc\\x01\\x01\\x1f\\xcc\\x85\\xb6b\\xde\\xf4S\\xf9T\\xfd\\xd1\\xe2\\x9d\\x0c\\xaf\\tW\\xb5]}|\\x18\\xd7\\xf0\\x12\\x1c\\xd9\\x001\\xd9V\\xfb\\xc3\\xff\\xbe\\x0b\\xc0\\xd55\\x98\\xf0\\xcdp\\x8d\\xfb=\\x82i\\xe8\\x02\\xb0\\xa1%\\x7f\\x93\\x11\\xd9\\x8a\\xb5a#Z\\xe9\\x93\\x04\\x80\\x82\\xf8\\xc3I\\xec\\xe6\\xf0Cy2V\\x89\\xd1\\xfc\\xf7RY5X\\x0fD\\xab\\xea\\xf8\\xe8 ...'\n",
      "    ),\n",
      "  ],\n",
      "  role='model'\n",
      ") grounding_metadata=None partial=None turn_complete=None finish_reason=<FinishReason.STOP: 'STOP'> error_code=None error_message=None interrupted=None custom_metadata=None usage_metadata=GenerateContentResponseUsageMetadata(\n",
      "  candidates_token_count=24,\n",
      "  candidates_tokens_details=[\n",
      "    ModalityTokenCount(\n",
      "      modality=<MediaModality.TEXT: 'TEXT'>,\n",
      "      token_count=24\n",
      "    ),\n",
      "  ],\n",
      "  prompt_token_count=3631,\n",
      "  prompt_tokens_details=[\n",
      "    ModalityTokenCount(\n",
      "      modality=<MediaModality.TEXT: 'TEXT'>,\n",
      "      token_count=3859\n",
      "    ),\n",
      "  ],\n",
      "  thoughts_token_count=59,\n",
      "  total_token_count=3714,\n",
      "  traffic_type=<TrafficType.ON_DEMAND: 'ON_DEMAND'>\n",
      ") live_session_resumption_update=None input_transcription=None output_transcription=None invocation_id='e-e17b0581-776f-42c8-93dd-c6d2ff378037' author='generate_llms_coordinator' actions=EventActions(skip_summarization=None, state_delta={}, artifact_delta={}, transfer_to_agent=None, escalate=None, requested_auth_configs={}) long_running_tool_ids=set() branch=None id='76f26001-db55-4214-8b2f-073272b2c887' timestamp=1758442538.431947\n",
      "DEBUG: Full Event: content=Content(\n",
      "  parts=[\n",
      "    Part(\n",
      "      function_response=FunctionResponse(\n",
      "        id='adk-dc7cc64b-39c3-40fe-aa89-b888fe4a8ccd',\n",
      "        name='generate_llms_txt',\n",
      "        response={\n",
      "          'llms_txt_path': '/home/darren/localdev/Python/llms-gen/notebooks/temp/llms.txt',\n",
      "          'status': 'success'\n",
      "        }\n",
      "      )\n",
      "    ),\n",
      "  ],\n",
      "  role='user'\n",
      ") grounding_metadata=None partial=None turn_complete=None finish_reason=None error_code=None error_message=None interrupted=None custom_metadata=None usage_metadata=None live_session_resumption_update=None input_transcription=None output_transcription=None invocation_id='e-e17b0581-776f-42c8-93dd-c6d2ff378037' author='generate_llms_coordinator' actions=EventActions(skip_summarization=None, state_delta={'llms_txt_path': '/home/darren/localdev/Python/llms-gen/notebooks/temp/llms.txt'}, artifact_delta={}, transfer_to_agent=None, escalate=None, requested_auth_configs={}) long_running_tool_ids=None branch=None id='30968ca8-7f8d-4697-894a-6a7b1f6a3cae' timestamp=1758442539.14024\n"
     ]
    },
    {
     "data": {
      "text/markdown": [
       "### Final Message"
      ],
      "text/plain": [
       "<IPython.core.display.Markdown object>"
      ]
     },
     "metadata": {},
     "output_type": "display_data"
    },
    {
     "data": {
      "text/markdown": [
       "The `llms.txt` file has been successfully generated at `/home/darren/localdev/Python/llms-gen/notebooks/temp/llms.txt`."
      ],
      "text/plain": [
       "<IPython.core.display.Markdown object>"
      ]
     },
     "metadata": {},
     "output_type": "display_data"
    },
    {
     "name": "stdout",
     "output_type": "stream",
     "text": [
      "DEBUG: Full Event: content=Content(\n",
      "  parts=[\n",
      "    Part(\n",
      "      text='The `llms.txt` file has been successfully generated at `/home/darren/localdev/Python/llms-gen/notebooks/temp/llms.txt`.',\n",
      "      thought_signature=b'\\n\\xbc\\x01\\x01\\x1f\\xcc\\x85\\xb6\\xfa\\xd0\\x7f\\x1e\\x98\\xbaO\\x8e\\x97\\x1b\\xc7\\xac\\xcc$n&s\\xed\\xddU\\xa5q\\xc3\\xd9\\x87|\\x1fi\\n\\xa4Z\\x1d\\x9d*\\xe7\\x1d\\xe6\\x00\\xe3\\xf5S\\xc0#D\\xb9\\x92G0\\x9fk2\\'\\xc2\\xa3\\x94+5\\x9e\\xaf\\x15\\xe3\\xcfX\\xbf\\xed\\xa7\\xbc\\xfdY\\x1a\\xb6\\xa6\"\\xefo/\\'\\x9c\\xd1\\xdb\\x14d8{\\x9f)yKw...'\n",
      "    ),\n",
      "  ],\n",
      "  role='model'\n",
      ") grounding_metadata=None partial=None turn_complete=None finish_reason=<FinishReason.STOP: 'STOP'> error_code=None error_message=None interrupted=None custom_metadata=None usage_metadata=GenerateContentResponseUsageMetadata(\n",
      "  cache_tokens_details=[\n",
      "    ModalityTokenCount(\n",
      "      modality=<MediaModality.TEXT: 'TEXT'>,\n",
      "      token_count=3174\n",
      "    ),\n",
      "  ],\n",
      "  cached_content_token_count=3174,\n",
      "  candidates_token_count=39,\n",
      "  candidates_tokens_details=[\n",
      "    ModalityTokenCount(\n",
      "      modality=<MediaModality.TEXT: 'TEXT'>,\n",
      "      token_count=39\n",
      "    ),\n",
      "  ],\n",
      "  prompt_token_count=3694,\n",
      "  prompt_tokens_details=[\n",
      "    ModalityTokenCount(\n",
      "      modality=<MediaModality.TEXT: 'TEXT'>,\n",
      "      token_count=3979\n",
      "    ),\n",
      "  ],\n",
      "  thoughts_token_count=41,\n",
      "  total_token_count=3774,\n",
      "  traffic_type=<TrafficType.ON_DEMAND: 'ON_DEMAND'>\n",
      ") live_session_resumption_update=None input_transcription=None output_transcription=None invocation_id='e-e17b0581-776f-42c8-93dd-c6d2ff378037' author='generate_llms_coordinator' actions=EventActions(skip_summarization=None, state_delta={}, artifact_delta={}, transfer_to_agent=None, escalate=None, requested_auth_configs={}) long_running_tool_ids=None branch=None id='67c02e58-6bcc-4fe2-8c35-e91f40ba3381' timestamp=1758442539.141027\n"
     ]
    }
   ],
   "source": [
    "query = f\"Generate the llms.txt file for the repository at {TEST_REPO_PATH}\"\n",
    "await call_agent_async(query)"
   ]
  },
  {
   "cell_type": "code",
   "execution_count": null,
   "id": "8f13ff7f",
   "metadata": {},
   "outputs": [],
   "source": []
  }
 ],
 "metadata": {
  "kernelspec": {
   "display_name": "llms-generator",
   "language": "python",
   "name": "python3"
  },
  "language_info": {
   "codemirror_mode": {
    "name": "ipython",
    "version": 3
   },
   "file_extension": ".py",
   "mimetype": "text/x-python",
   "name": "python",
   "nbconvert_exporter": "python",
   "pygments_lexer": "ipython3",
   "version": "3.12.3"
  }
 },
 "nbformat": 4,
 "nbformat_minor": 5
}
