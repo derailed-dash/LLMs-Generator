{
 "cells": [
  {
   "cell_type": "markdown",
   "id": "64d61fe7",
   "metadata": {},
   "source": [
    "# LLMS-Generator Experiments\n",
    "\n",
    "For experimentation with the LLMS-Generator Agent.\n",
    "\n",
    "## Setup\n",
    "\n",
    "To run this notebook, ensure you've authenticated to Google Cloud and installed the project's dependencies.\n",
    "\n",
    "To setup the Google Cloud environment:\n",
    "\n",
    "```bash\n",
    "source scripts/setup-env.sh\n",
    "```\n",
    "\n",
    "Then to install the package dependencies into the virtual environment, use the `uv` tool:\n",
    "\n",
    "1. From your agent's root directory, run `make install` to set up the virtual environment (`.venv`).\n",
    "2. In this Jupyter notebook, select the kernel from the `.venv` folder to ensure all dependencies are available."
   ]
  },
  {
   "cell_type": "markdown",
   "id": "a069eef7",
   "metadata": {},
   "source": [
    "### Import Libraries"
   ]
  },
  {
   "cell_type": "code",
   "execution_count": null,
   "id": "bc7e2edf",
   "metadata": {},
   "outputs": [],
   "source": [
    "import os\n",
    "\n",
    "import vertexai\n",
    "from dotenv import load_dotenv\n",
    "from google.adk.runners import Runner\n",
    "from google.adk.sessions import InMemorySessionService\n",
    "from google.auth import default\n",
    "from google.genai.types import Content, Part\n",
    "from IPython.display import Markdown, display"
   ]
  },
  {
   "cell_type": "markdown",
   "id": "ba7e44ae",
   "metadata": {},
   "source": [
    "### Load Environment Variables"
   ]
  },
  {
   "cell_type": "code",
   "execution_count": null,
   "id": "d20b391a",
   "metadata": {},
   "outputs": [],
   "source": [
    "dotenv_path = os.path.abspath('../.env')\n",
    "\n",
    "if os.path.exists(dotenv_path):\n",
    "    print(f\"Loading environment variables from: {dotenv_path}\")\n",
    "    load_dotenv(dotenv_path=dotenv_path)\n",
    "else:\n",
    "    print(f\"Warning: .env file not found at {dotenv_path}\")\n",
    "\n",
    "staging_project_id = os.getenv(\"GOOGLE_CLOUD_STAGING_PROJECT\")\n",
    "if staging_project_id:\n",
    "    os.environ[\"GOOGLE_CLOUD_PROJECT\"] = staging_project_id\n",
    "    print(f\"Set GOOGLE_CLOUD_PROJECT environment variable to: {staging_project_id}\")\n"
   ]
  },
  {
   "cell_type": "markdown",
   "id": "9ffaf0f7",
   "metadata": {},
   "source": [
    "### Ensure We're Authenticating to the Right Project"
   ]
  },
  {
   "cell_type": "code",
   "execution_count": null,
   "id": "9b42809e",
   "metadata": {},
   "outputs": [],
   "source": [
    "credentials, project_id = default()  # To use ADC\n",
    "vertexai.init(project=staging_project_id, location=\"europe-west4\", credentials=credentials)"
   ]
  },
  {
   "cell_type": "markdown",
   "id": "1401a474",
   "metadata": {},
   "source": [
    "## Running the Agent"
   ]
  },
  {
   "cell_type": "code",
   "execution_count": null,
   "id": "f56af454",
   "metadata": {},
   "outputs": [],
   "source": [
    "from llms_gen_agent.agent import root_agent"
   ]
  },
  {
   "cell_type": "code",
   "execution_count": null,
   "id": "de7bc478",
   "metadata": {},
   "outputs": [],
   "source": [
    "# Session and Runner\n",
    "APP_NAME = \"generate_llms_client\"\n",
    "USER_ID=\"test_user\"\n",
    "SESSION_ID=\"test_session\"\n",
    "TEST_REPO_PATH = \"/home/darren/localdev/gcp/adk-docs\" # You can change this to any repository you want to test\n",
    "\n",
    "async def setup_session_and_runner():\n",
    "    session_service = InMemorySessionService()\n",
    "    session = await session_service.create_session(app_name=APP_NAME, user_id=USER_ID, session_id=SESSION_ID)\n",
    "    runner = Runner(agent=root_agent, app_name=APP_NAME, session_service=session_service)\n",
    "    return session, runner"
   ]
  },
  {
   "cell_type": "code",
   "execution_count": null,
   "id": "14bc181a",
   "metadata": {},
   "outputs": [],
   "source": [
    "\n",
    "# Agent Interaction\n",
    "async def call_agent_async(query):\n",
    "    content = Content(role='user', parts=[Part(text=query)])\n",
    "    _, runner = await setup_session_and_runner()\n",
    "    events = runner.run_async(user_id=USER_ID, session_id=SESSION_ID, new_message=content)\n",
    "\n",
    "    async for event in events:\n",
    "        if function_calls := event.get_function_calls():\n",
    "            tool_name = function_calls[0].name\n",
    "            display(Markdown(f\"_Using tool {tool_name}..._\"))\n",
    "        elif event.actions and event.actions.transfer_to_agent:\n",
    "            personality_name = event.actions.transfer_to_agent\n",
    "            display(Markdown(f\"_Delegating to agent: {personality_name}..._\"))\n",
    "        elif event.is_final_response() and event.content and event.content.parts:\n",
    "            final_message = event.content.parts[0].text\n",
    "            display(Markdown(\"### Final Message\"))\n",
    "            display(Markdown(final_message))\n"
   ]
  },
  {
   "cell_type": "code",
   "execution_count": null,
   "id": "c09069fa",
   "metadata": {},
   "outputs": [],
   "source": [
    "query = f\"Generate the llms.txt file for the repository at {TEST_REPO_PATH}\"\n",
    "await call_agent_async(query)"
   ]
  },
  {
   "cell_type": "code",
   "execution_count": null,
   "id": "6ec7b0b9",
   "metadata": {},
   "outputs": [],
   "source": []
  }
 ],
 "metadata": {
  "kernelspec": {
   "display_name": "llms-generator",
   "language": "python",
   "name": "python3"
  },
  "language_info": {
   "codemirror_mode": {
    "name": "ipython",
    "version": 3
   },
   "file_extension": ".py",
   "mimetype": "text/x-python",
   "name": "python",
   "nbconvert_exporter": "python",
   "pygments_lexer": "ipython3",
   "version": "3.12.3"
  }
 },
 "nbformat": 4,
 "nbformat_minor": 5
}
